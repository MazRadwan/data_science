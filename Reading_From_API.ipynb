{
  "cells": [
    {
      "cell_type": "markdown",
      "metadata": {
        "id": "view-in-github",
        "colab_type": "text"
      },
      "source": [
        "<a href=\"https://colab.research.google.com/github/MazRadwan/data_science/blob/main/Reading_From_API.ipynb\" target=\"_parent\"><img src=\"https://colab.research.google.com/assets/colab-badge.svg\" alt=\"Open In Colab\"/></a>"
      ]
    },
    {
      "cell_type": "markdown",
      "metadata": {
        "id": "9SAbMmJROact"
      },
      "source": [
        "# Reading From an API - Weather Application\n",
        "\n",
        "Up until now, we've been following the pattern of manually downloading some data, then graphing it. However, this pattern won't work for most applications.\n",
        "\n",
        "For example, while the 2020 US elections were happening, the developers behind the data visualizations on the news weren't manually downloading tables of data as new votes came in, then manually updating the visualizations. Instead, that data was being sent to their visualization application, and they wrote code to receive the data and visualize it.\n",
        "\n",
        "This practice of requesting and receiving data programmatically is called reading from an API. API stands for Application Programming Interface, and APIs are sources of *live data*. So instead of downloading one CSV file and showing that same data over and over, we can write programs to read from an API and show the most up-to-date information every time our code runs.\n",
        "\n",
        "In this notebook we will learn how to read from an API to show a visualization of the live weather forecast."
      ]
    },
    {
      "cell_type": "markdown",
      "metadata": {
        "id": "IldrKttoSPpN"
      },
      "source": [
        "## Our First API Request\n",
        "\n",
        "First let's see how we can make a request to an API. For this notebook, we will be using the [Geospatial Web Services API](https://eccc-msc.github.io/open-data/msc-geomet/readme_en/) provided by the Government of Canada. This API allows us to access up-to-date weather data for many locations in the world.\n",
        "\n",
        "> Note: an API is basically just a computer somewhere else in the world which is available through a URL, and which will perform actions (such as returning data) based on the contents of requests sent to it."
      ]
    },
    {
      "cell_type": "markdown",
      "metadata": {
        "id": "Og_tI1_XTkx5"
      },
      "source": [
        "In Python, to use an API we use the `requests` module."
      ]
    },
    {
      "cell_type": "code",
      "source": [
        "import requests"
      ],
      "metadata": {
        "id": "CqZn-IoOKz4Z"
      },
      "execution_count": 1,
      "outputs": []
    },
    {
      "cell_type": "code",
      "execution_count": null,
      "metadata": {
        "id": "OyPnHrtduber"
      },
      "outputs": [],
      "source": [
        "import requests"
      ]
    },
    {
      "cell_type": "markdown",
      "metadata": {
        "id": "phCHo81NTqz5"
      },
      "source": [
        "Next, we build the URL for making the request. To start, all API have a *base URL*. This is the URL which you use for all requests to this API."
      ]
    },
    {
      "cell_type": "code",
      "source": [
        "api_base = 'https://geo.weather.gc.ca/geomet'"
      ],
      "metadata": {
        "id": "joR53wdKLKqY"
      },
      "execution_count": 4,
      "outputs": []
    },
    {
      "cell_type": "code",
      "execution_count": 2,
      "metadata": {
        "id": "5WM_35rNUOrA"
      },
      "outputs": [],
      "source": [
        "api_base = 'https://geo.weather.gc.ca/geomet'"
      ]
    },
    {
      "cell_type": "markdown",
      "metadata": {
        "id": "StFpv_GlVm9F"
      },
      "source": [
        "API's frequently also have *parameters* which need to be added on to the base URL. These parameters follow the form `PARAMETER_NAME=PARAMETER_VALUE`, and each parameter is separated by a `&`.\n",
        "\n",
        "Our API has many parameters which are required for it to work, and we'll look more at each parameter later, but for now just know that these parameters request the air temperature prediction for Calgary Alberta at 3 o'clock.\n",
        "\n",
        "> Because the API only provides predictions for the present, the `day` variable must be updated to the current day."
      ]
    },
    {
      "cell_type": "code",
      "execution_count": 7,
      "metadata": {
        "id": "boHeINfuVkbc",
        "colab": {
          "base_uri": "https://localhost:8080/",
          "height": 70
        },
        "outputId": "1f1fd6a7-80e5-4ade-d490-036720593721"
      },
      "outputs": [
        {
          "output_type": "execute_result",
          "data": {
            "text/plain": [
              "'SERVICE=WMS&VERSION=1.3.0&REQUEST=GetFeatureInfo&BBOX=51,-114,51.5,-113.5&CRS=EPSG:4326&WIDTH=10&HEIGHT=10&LAYERS=GDPS.ETA_TT&QUERY_LAYERS=GDPS.ETA_TT&INFO_FORMAT=application/json&I=5&J=5&TIME=2025-01-09T15:00:00Z'"
            ],
            "application/vnd.google.colaboratory.intrinsic+json": {
              "type": "string"
            }
          },
          "metadata": {},
          "execution_count": 7
        }
      ],
      "source": [
        "# Update this\n",
        "day = '2025-01-09'\n",
        "# Note: this is just a really long string broken into smaller pieces\n",
        "api_params = (\n",
        "    'SERVICE=WMS'\n",
        "    '&VERSION=1.3.0'\n",
        "    '&REQUEST=GetFeatureInfo'\n",
        "    '&BBOX=51,-114,51.5,-113.5'\n",
        "    '&CRS=EPSG:4326'\n",
        "    '&WIDTH=10'\n",
        "    '&HEIGHT=10'\n",
        "    '&LAYERS=GDPS.ETA_TT'\n",
        "    '&QUERY_LAYERS=GDPS.ETA_TT'\n",
        "    '&INFO_FORMAT=application/json'\n",
        "    '&I=5'\n",
        "    '&J=5'\n",
        "    f'&TIME={day}T15:00:00Z'\n",
        ")\n",
        "\n"
      ]
    },
    {
      "cell_type": "markdown",
      "metadata": {
        "id": "PT87ga-_WBh8"
      },
      "source": [
        "Finally, we just join the API base and the parameters together with a `?` as a separator and we are finished building the API URL."
      ]
    },
    {
      "cell_type": "code",
      "source": [
        "url = api_base + '?' + api_params\n",
        "url"
      ],
      "metadata": {
        "colab": {
          "base_uri": "https://localhost:8080/",
          "height": 87
        },
        "id": "3-4ygxBHMPKa",
        "outputId": "18a11ca2-e71d-4742-ad67-5cb32f5a6edb"
      },
      "execution_count": 9,
      "outputs": [
        {
          "output_type": "execute_result",
          "data": {
            "text/plain": [
              "'https://geo.weather.gc.ca/geomet?SERVICE=WMS&VERSION=1.3.0&REQUEST=GetFeatureInfo&BBOX=51,-114,51.5,-113.5&CRS=EPSG:4326&WIDTH=10&HEIGHT=10&LAYERS=GDPS.ETA_TT&QUERY_LAYERS=GDPS.ETA_TT&INFO_FORMAT=application/json&I=5&J=5&TIME=2025-01-09T15:00:00Z'"
            ],
            "application/vnd.google.colaboratory.intrinsic+json": {
              "type": "string"
            }
          },
          "metadata": {},
          "execution_count": 9
        }
      ]
    },
    {
      "cell_type": "code",
      "execution_count": null,
      "metadata": {
        "id": "qKD3Gd32WAgC"
      },
      "outputs": [],
      "source": [
        "url = api_base + '?' + api_params\n",
        "url"
      ]
    },
    {
      "cell_type": "markdown",
      "metadata": {
        "id": "PjzDlrMoXfer"
      },
      "source": [
        "Now that we have the URL, we can make a request to the API, and view the results."
      ]
    },
    {
      "cell_type": "code",
      "source": [
        "res = requests.get(url)\n",
        "\n",
        "res.json()['features'][0]['properties']['value']\n"
      ],
      "metadata": {
        "colab": {
          "base_uri": "https://localhost:8080/",
          "height": 35
        },
        "id": "2umineWmMkaQ",
        "outputId": "01e0fc31-0abf-4908-a656-4b4aa88b2314"
      },
      "execution_count": 14,
      "outputs": [
        {
          "output_type": "execute_result",
          "data": {
            "text/plain": [
              "'-11.302649'"
            ],
            "application/vnd.google.colaboratory.intrinsic+json": {
              "type": "string"
            }
          },
          "metadata": {},
          "execution_count": 14
        }
      ]
    },
    {
      "cell_type": "code",
      "execution_count": null,
      "metadata": {
        "colab": {
          "base_uri": "https://localhost:8080/"
        },
        "id": "Z4OsL9zsXtfF",
        "outputId": "143b6f10-beea-4b47-83ee-13e8e845be62"
      },
      "outputs": [
        {
          "data": {
            "text/plain": [
              "{'features': [{'geometry': {'coordinates': [-114.3, 51.9], 'type': 'Point'},\n",
              "   'id': 'GDPS.ETA_TT/-114.3/51.9',\n",
              "   'properties': {'value': '-0.78571165'},\n",
              "   'type': 'Feature'}],\n",
              " 'layer': 'GDPS.ETA_TT',\n",
              " 'type': 'FeatureCollection'}"
            ]
          },
          "execution_count": 74,
          "metadata": {
            "tags": []
          },
          "output_type": "execute_result"
        }
      ],
      "source": [
        "# API is slow, so we can leave this commented to save time\n",
        "# res = requests.get(url)\n",
        "# res.json()"
      ]
    },
    {
      "cell_type": "markdown",
      "metadata": {
        "id": "jaT5s8l0X7OD"
      },
      "source": [
        "The API returned JSON data to us, which we parsed using the `json` method on the response. This JSON contains the predicted air temperature in the `value` key within the `properties` object."
      ]
    },
    {
      "cell_type": "markdown",
      "metadata": {
        "id": "lxm1pIyCaWjs"
      },
      "source": [
        "## Making Requests Easier\n",
        "\n",
        "Now we know how to make requests and receive data, but the method above is not very easy to use. Let's write code so that we can easily ask for weather data at specific times of day and at any location."
      ]
    },
    {
      "cell_type": "markdown",
      "metadata": {
        "id": "tVSbgaAf7Zf_"
      },
      "source": [
        "We'll start by getting the current time so we can tell the API what time our weather predictions should be for. To do this we'll need a couple imports from the `datetime` module. This module provides many useful features for working with dates and time, for example `datetime.now()` to get a representation of the current time, and `timedelta` which can be used to create objects for doing math with time.\n",
        "\n",
        "The current time might not be what you expect. This is because we are using Coordinated Universal Time (UTC), which is a time that is the same regardless of location on Earth. The API expects UTC.\n",
        "\n",
        "In the `my_time_difference` variable, store the difference between your time and the time printed. For example, for me it shows the hour 15:12:10, but where I am it is really 8:12:10, so my time difference is $8-15=-7$, meaning I am 7 hours behind. We'll use this variable later on.\n"
      ]
    },
    {
      "cell_type": "code",
      "source": [
        "from datetime import datetime, timedelta\n",
        "\n",
        "datetime.now()\n",
        "my_time_difference = -3.5\n",
        "print(datetime.now() + timedelta(hours=my_time_difference))"
      ],
      "metadata": {
        "colab": {
          "base_uri": "https://localhost:8080/"
        },
        "id": "EWkd2sknOidp",
        "outputId": "74ff5e63-47a5-48d7-f100-2f76abc15d9e"
      },
      "execution_count": 22,
      "outputs": [
        {
          "output_type": "stream",
          "name": "stdout",
          "text": [
            "2025-01-09 09:56:03.779616\n"
          ]
        }
      ]
    },
    {
      "cell_type": "code",
      "execution_count": null,
      "metadata": {
        "colab": {
          "base_uri": "https://localhost:8080/"
        },
        "id": "j4OjmkzU9V0j",
        "outputId": "07af8ce3-bc00-48e4-e037-45487b28812f"
      },
      "outputs": [
        {
          "name": "stdout",
          "output_type": "stream",
          "text": [
            "2020-11-27 16:05:38.121762\n",
            "2020-11-27 09:05:38.122314\n"
          ]
        }
      ],
      "source": [
        "from datetime import datetime, timedelta\n",
        "\n",
        "print(datetime.now())\n",
        "my_time_difference = -7\n",
        "print(datetime.now() + timedelta(hours=my_time_difference))"
      ]
    },
    {
      "cell_type": "markdown",
      "metadata": {
        "id": "pLUBcGqxFFCV"
      },
      "source": [
        "The API only has times available at three hour intervals following midnight, so we can request temperatures for midnight, 3am, 6am, 9am, etc.. Therefore we need to round to an hour which is a multiple of 3, and this function will help us do that.\n"
      ]
    },
    {
      "cell_type": "code",
      "execution_count": null,
      "metadata": {
        "id": "LYhZAZyo63uw"
      },
      "outputs": [],
      "source": [
        "def round_multiple(num, multiple):\n",
        "    \"\"\"Rounds `num` to the nearest multiple of `multiple`.\n",
        "\n",
        "    From: https://stackoverflow.com/a/29557629/14703577\n",
        "    \"\"\"\n",
        "    return ((num + multiple // 2) // multiple) * multiple"
      ]
    },
    {
      "cell_type": "code",
      "source": [
        "def round_multiple(num, multiple):\n",
        "  \"\"\"Rounds `num` to the nearest multiple of `multiple`.\"\"\"\n",
        "  return ((num + multiple // 2)// multiple) * multiple\n",
        "\n",
        "round_multiple(8, multiple=3)"
      ],
      "metadata": {
        "colab": {
          "base_uri": "https://localhost:8080/"
        },
        "id": "yBOFoMyKQSGJ",
        "outputId": "fbfd12aa-6cc0-47bf-eaa7-94d7b88d9b01"
      },
      "execution_count": 49,
      "outputs": [
        {
          "output_type": "execute_result",
          "data": {
            "text/plain": [
              "9"
            ]
          },
          "metadata": {},
          "execution_count": 49
        }
      ]
    },
    {
      "cell_type": "code",
      "source": [
        "time = datetime.now() + timedelta(hours=my_time_difference)\n",
        "time.isoformat(timespec='seconds')"
      ],
      "metadata": {
        "colab": {
          "base_uri": "https://localhost:8080/",
          "height": 35
        },
        "id": "L3xaeLuLTOTK",
        "outputId": "8ad18dec-bea5-4d1f-f697-57d5bf0ad87d"
      },
      "execution_count": 62,
      "outputs": [
        {
          "output_type": "execute_result",
          "data": {
            "text/plain": [
              "'2025-01-09T10:35:27'"
            ],
            "application/vnd.google.colaboratory.intrinsic+json": {
              "type": "string"
            }
          },
          "metadata": {},
          "execution_count": 62
        }
      ]
    },
    {
      "cell_type": "markdown",
      "metadata": {
        "id": "cTr1Ggy0BqOw"
      },
      "source": [
        "Now we get a string representation of the time in ISO8601 format with precision up to the second, the format the API expects (see the [Handling time section of the documentation](https://eccc-msc.github.io/open-data/msc-geomet/web-services_en/#handling-time))."
      ]
    },
    {
      "cell_type": "code",
      "source": [
        "def get_api_datetime(time: datetime) -> str:\n",
        "  #rounds time to the nearest hour multiple of 3 and time formatted\n",
        "  # to IS) UTC time sting expected by api\n",
        "\n",
        "  # Convert the time to UTC\n",
        "  utc_time = datetime.utcfromtimestamp(time.timestamp())\n",
        "\n",
        "  # round utc_time to an hour the api accepts\n",
        "  rounded_hour = round_multiple(utc_time.hour, 3)\n",
        "\n",
        "   # Check if we're going into the next day after rounding\n",
        "  if rounded_hour >= 24:\n",
        "        # Round to the start of the next day\n",
        "      utc_time = utc_time.replace(hour=0, minute=0, second=0) + timedelta(days=1)\n",
        "  else:\n",
        "        # Update to the start rounded hour\n",
        "      utc_time = utc_time.replace(hour=rounded_hour, minute=0, second=0)\n",
        "\n",
        "      # isoformat gives the ISO8601 string the API expects\n",
        "  return utc_time.isoformat(timespec='seconds')\n",
        "\n",
        "get_api_datetime(datetime.now())\n",
        "\n",
        "\n"
      ],
      "metadata": {
        "colab": {
          "base_uri": "https://localhost:8080/",
          "height": 35
        },
        "id": "l8aLqNl-SUmS",
        "outputId": "4e272d6b-1566-49ff-cbaf-9d233d39b393"
      },
      "execution_count": 66,
      "outputs": [
        {
          "output_type": "execute_result",
          "data": {
            "text/plain": [
              "'2025-01-09T15:00:00'"
            ],
            "application/vnd.google.colaboratory.intrinsic+json": {
              "type": "string"
            }
          },
          "metadata": {},
          "execution_count": 66
        }
      ]
    },
    {
      "cell_type": "code",
      "execution_count": 64,
      "metadata": {
        "colab": {
          "base_uri": "https://localhost:8080/",
          "height": 35
        },
        "id": "I1CjL58RIi1Y",
        "outputId": "e7010528-0ebd-4d01-a235-6a42aa6a2e53"
      },
      "outputs": [
        {
          "output_type": "execute_result",
          "data": {
            "text/plain": [
              "'2025-01-09T15:00:00'"
            ],
            "application/vnd.google.colaboratory.intrinsic+json": {
              "type": "string"
            }
          },
          "metadata": {},
          "execution_count": 64
        }
      ],
      "source": [
        "def get_api_datetime(time: datetime) -> str:\n",
        "    \"\"\"Rounds `time` to the nearest hour multiple of 3, and returns `time`\n",
        "    formatted to a ISO8601 UTC time string expected by the API.\"\"\"\n",
        "    # Convert the time to UTC\n",
        "    utc_time = datetime.utcfromtimestamp(time.timestamp())\n",
        "    # Round to an hour the API accepts\n",
        "    rounded_hour = round_multiple(utc_time.hour, 3)\n",
        "\n",
        "    # Check if we're going into the next day after rounding\n",
        "    if rounded_hour >= 24:\n",
        "        # Round to the start of the next day\n",
        "        utc_time = utc_time.replace(hour=0, minute=0, second=0) + timedelta(days=1)\n",
        "    else:\n",
        "        # Update to the start rounded hour\n",
        "        utc_time = utc_time.replace(hour=rounded_hour, minute=0, second=0)\n",
        "\n",
        "    # isoformat gives the ISO8601 string the API expects\n",
        "    return utc_time.isoformat(timespec='seconds')\n",
        "\n",
        "get_api_datetime(datetime.now())"
      ]
    },
    {
      "cell_type": "markdown",
      "metadata": {
        "id": "YDp81UHUdDMl"
      },
      "source": [
        "Now let's make a function to build up the URL for requesting specific data at a specific time and specific location. We do this by writing out the URL string, and putting in variables of the form `{var_name}` which Python will fill in when we call `format`.\n",
        "\n",
        "The variables include:\n",
        "\n",
        "- The latitude and longitude passed in, as well as `lat_end` and `lng_end` which are slightly bigger. The API needs the location of the prediction to be a box and we just want a small box, so this is why those variables are needed.\n",
        "\n",
        "- The time string for the prediction, which we build using our function we just created.\n",
        "\n",
        "- The layers, which are how we specify the type of data we want from the API. Our default parameter will be the layer name for the air temperature data. We'll look more at how to get different layers later.\n",
        "\n",
        "We also return the prediction time which was actually used, because this may differ from the time requested to the contraints of the API (i.e. the three hour intervals)."
      ]
    },
    {
      "cell_type": "code",
      "source": [
        "from typing import Tuple\n",
        "\n",
        "def get_api_url(time:datetime, lat : float, lng: float, layers='GDPS.ETA_TT') -> Tuple[str,str]:\n",
        "  \"\"\"Builds the API URL to request data for the given time and location.\n",
        "\n",
        "    Returns the URL and the time the URL will predict for.\n",
        "\n",
        "    `layers` gives the type of data to request, the default is to get the air\n",
        "    temperature prediction.\n",
        "    \"\"\"\n",
        "  pred_time = get_api_datetime(time)\n",
        "  url = (\n",
        "    'https://geo.weather.gc.ca/geomet?SERVICE=WMS&VERSION=1.3.0' # Base API URL, common to all requests\n",
        "    '&REQUEST=GetFeatureInfo' # The request type we want to make, GetFeatureInfo returns weather data\n",
        "    '&BBOX={lat},{lng},{lat_end},{lng_end}' # The location we want the prediction to be for\n",
        "    '&CRS=EPSG:4326&WIDTH=10&HEIGHT=10' # Necessary parameters, not important to us\n",
        "    '&LAYERS={layers}' # The specific type of data we want to be returned\n",
        "    '&QUERY_LAYERS={layers}' # The specific type of data we want to be returned (necessary duplication)\n",
        "    '&INFO_FORMAT=application/json' # Return data in JSON format\n",
        "    '&I=5&J=5' # Necessary parameters, not important to us\n",
        "    '&TIME={time}Z' # The time the prediction should be for\n",
        "    )\n",
        "\n",
        "  return url.format(lat=lat, lng=lng, lat_end= lat + 0.5, lng_end=lng + 0.5,\n",
        "                    layers=layers, time=pred_time), pred_time\n",
        "\n",
        "get_api_url(time, lat=51, lng=114)\n",
        "\n",
        "\n"
      ],
      "metadata": {
        "colab": {
          "base_uri": "https://localhost:8080/"
        },
        "id": "3x23itq0ZYvW",
        "outputId": "dff980e7-1c88-42a9-b770-0471d0c05024"
      },
      "execution_count": 72,
      "outputs": [
        {
          "output_type": "execute_result",
          "data": {
            "text/plain": [
              "('https://geo.weather.gc.ca/geomet?SERVICE=WMS&VERSION=1.3.0&REQUEST=GetFeatureInfo&BBOX=51,114,51.5,114.5&CRS=EPSG:4326&WIDTH=10&HEIGHT=10&LAYERS=GDPS.ETA_TT&QUERY_LAYERS=GDPS.ETA_TT&INFO_FORMAT=application/json&I=5&J=5&TIME=2025-01-09T09:00:00Z',\n",
              " '2025-01-09T09:00:00')"
            ]
          },
          "metadata": {},
          "execution_count": 72
        }
      ]
    },
    {
      "cell_type": "code",
      "execution_count": null,
      "metadata": {
        "id": "wilUO1JF3PsH"
      },
      "outputs": [],
      "source": [
        "def get_api_url(time: datetime, lat: float, lng: float, layers='GDPS.ETA_TT'):\n",
        "    \"\"\"Builds the API URL to request data for the given time and location.\n",
        "\n",
        "    Returns the URL and the time the URL will predict for.\n",
        "\n",
        "    `layers` gives the type of data to request, the default is to get the air\n",
        "    temperature prediction.\n",
        "    \"\"\"\n",
        "    pred_time = get_api_datetime(time)\n",
        "\n",
        "    url = (\n",
        "    'https://geo.weather.gc.ca/geomet?SERVICE=WMS&VERSION=1.3.0' # Base API URL, common to all requests\n",
        "    '&REQUEST=GetFeatureInfo' # The request type we want to make, GetFeatureInfo returns weather data\n",
        "    '&BBOX={lat},{lng},{lat_end},{lng_end}' # The location we want the prediction to be for\n",
        "    '&CRS=EPSG:4326&WIDTH=10&HEIGHT=10' # Necessary parameters, not important to us\n",
        "    '&LAYERS={layers}' # The specific type of data we want to be returned\n",
        "    '&QUERY_LAYERS={layers}' # The specific type of data we want to be returned (necessary duplication)\n",
        "    '&INFO_FORMAT=application/json' # Return data in JSON format\n",
        "    '&I=5&J=5' # Necessary parameters, not important to us\n",
        "    '&TIME={time}Z' #=  The time the prediction should be for\n",
        "    )\n",
        "\n",
        "    return url.format(lat=lat,\n",
        "                      lng=lng,\n",
        "                      lat_end=lat+0.5,\n",
        "                      lng_end=lng+0.5,\n",
        "                      time=pred_time,\n",
        "                      layers=layers), pred_time"
      ]
    },
    {
      "cell_type": "markdown",
      "metadata": {
        "id": "QOXp2Rr74b_C"
      },
      "source": [
        "Now we can make a function to easily get the air temperature for a specific time.\n",
        "\n",
        "> We'll use the latitude and longitude of Calgary Alberta, but you can use whatever coordinates you like. To find the coordinates of the city you live in, you can go to https://www.latlong.net/ and type in the name of your city.\n",
        "\n",
        "> Uncomment the call to the function to check if it works, otherwise leave it commented as the API takes a while to finish."
      ]
    },
    {
      "cell_type": "code",
      "execution_count": 74,
      "metadata": {
        "id": "kHqU6Blt4bdW",
        "colab": {
          "base_uri": "https://localhost:8080/"
        },
        "outputId": "e982327b-5cb3-4361-ceeb-c69605be2425"
      },
      "outputs": [
        {
          "output_type": "execute_result",
          "data": {
            "text/plain": [
              "({'type': 'FeatureCollection',\n",
              "  'layer': 'GDPS.ETA_TT',\n",
              "  'features': [{'type': 'Feature',\n",
              "    'id': 'GDPS.ETA_TT(-57.3,48.9)',\n",
              "    'geometry': {'type': 'Point', 'coordinates': [-57.3, 48.9]},\n",
              "    'properties': {'value': '-1.7276672',\n",
              "     'class': '-5 0',\n",
              "     'time': '2025-01-09T15:00:00Z',\n",
              "     'dim_reference_time': '2025-01-09T00:00:00Z'}}]},\n",
              " '2025-01-09T15:00:00')"
            ]
          },
          "metadata": {},
          "execution_count": 74
        }
      ],
      "source": [
        "def get_air_temperature(time: datetime):\n",
        "    \"\"\"Returns the JSON response from an air temperature request with the given\n",
        "    time, as well as the time the prediction was made for.\"\"\"\n",
        "    url, pred_time = get_api_url(time, lat=48, lng=-57)\n",
        "    res = requests.get(url)\n",
        "    return res.json(), pred_time\n",
        "\n",
        "get_air_temperature(datetime.now())"
      ]
    },
    {
      "cell_type": "markdown",
      "metadata": {
        "id": "08uckXZya7KH"
      },
      "source": [
        "# Visualizing Live Weather Data\n",
        "\n",
        "Next let's use the API to show a weather forecast with Bokeh!"
      ]
    },
    {
      "cell_type": "markdown",
      "metadata": {
        "id": "ulg_tRSPOriL"
      },
      "source": [
        "We'll get the forecasted air temperatures for the next 5 three hour intervals. This might take a while to execute, so let's also put some precautions in place to make sure we don't run this unnecessarily."
      ]
    },
    {
      "cell_type": "code",
      "execution_count": null,
      "metadata": {
        "id": "B-ydPCBBG4hT"
      },
      "outputs": [],
      "source": [
        "import pandas as pd\n",
        "\n",
        "def get_air_temp_predictions(num=5) -> pd.DataFrame:\n",
        "    \"\"\"Returns a Pandas dataframe containing predicted air temperatures,\n",
        "    with the prediction times as the row labels.\"\"\"\n",
        "    air_temps = []\n",
        "    pred_times = []\n",
        "\n",
        "    now = datetime.now()\n",
        "    # Get the next `num` 3 hour intervals\n",
        "    times = [now + timedelta(hours=3 * i) for i in range(num)]\n",
        "\n",
        "    for time in times:\n",
        "        air_temp_json, pred_time_str = get_air_temperature(time)\n",
        "\n",
        "        # Get the actual prediction value buried in the JSON\n",
        "        air_temp = air_temp_json['features'][0]['properties']['value']\n",
        "        air_temps.append(float(air_temp))\n",
        "\n",
        "        pred_times.append(pred_time_str)\n",
        "\n",
        "    df = pd.DataFrame({'air_temp': air_temps}, index=pred_times)\n",
        "    # Parse the prediction time as dates\n",
        "    df.index = pd.to_datetime(df.index)\n",
        "    return df\n",
        "\n",
        "# Change False to True to retrieve fresh predictions\n",
        "if False or 'air_temp_predictions_gathered' not in globals().keys():\n",
        "    air_temps_df = get_air_temp_predictions()\n",
        "    air_temp_predictions_gathered = True"
      ]
    },
    {
      "cell_type": "code",
      "execution_count": null,
      "metadata": {
        "colab": {
          "base_uri": "https://localhost:8080/",
          "height": 204
        },
        "id": "bolGrZijUV_d",
        "outputId": "4eaaf459-aea1-477f-e2ad-c91c469ffd32"
      },
      "outputs": [
        {
          "data": {
            "text/html": [
              "<div>\n",
              "<style scoped>\n",
              "    .dataframe tbody tr th:only-of-type {\n",
              "        vertical-align: middle;\n",
              "    }\n",
              "\n",
              "    .dataframe tbody tr th {\n",
              "        vertical-align: top;\n",
              "    }\n",
              "\n",
              "    .dataframe thead th {\n",
              "        text-align: right;\n",
              "    }\n",
              "</style>\n",
              "<table border=\"1\" class=\"dataframe\">\n",
              "  <thead>\n",
              "    <tr style=\"text-align: right;\">\n",
              "      <th></th>\n",
              "      <th>air_temp</th>\n",
              "    </tr>\n",
              "  </thead>\n",
              "  <tbody>\n",
              "    <tr>\n",
              "      <th>2020-11-27 15:00:00</th>\n",
              "      <td>-0.785712</td>\n",
              "    </tr>\n",
              "    <tr>\n",
              "      <th>2020-11-27 18:00:00</th>\n",
              "      <td>3.244287</td>\n",
              "    </tr>\n",
              "    <tr>\n",
              "      <th>2020-11-27 21:00:00</th>\n",
              "      <td>7.248651</td>\n",
              "    </tr>\n",
              "    <tr>\n",
              "      <th>2020-11-28 00:00:00</th>\n",
              "      <td>-0.531988</td>\n",
              "    </tr>\n",
              "    <tr>\n",
              "      <th>2020-11-28 03:00:00</th>\n",
              "      <td>0.912470</td>\n",
              "    </tr>\n",
              "  </tbody>\n",
              "</table>\n",
              "</div>"
            ],
            "text/plain": [
              "                     air_temp\n",
              "2020-11-27 15:00:00 -0.785712\n",
              "2020-11-27 18:00:00  3.244287\n",
              "2020-11-27 21:00:00  7.248651\n",
              "2020-11-28 00:00:00 -0.531988\n",
              "2020-11-28 03:00:00  0.912470"
            ]
          },
          "execution_count": 82,
          "metadata": {
            "tags": []
          },
          "output_type": "execute_result"
        }
      ],
      "source": [
        "air_temps_df"
      ]
    },
    {
      "cell_type": "code",
      "execution_count": null,
      "metadata": {
        "id": "qllWuuVTYBZ7"
      },
      "outputs": [],
      "source": [
        "from bokeh.plotting import show, figure, output_notebook\n",
        "\n",
        "output_notebook()"
      ]
    },
    {
      "cell_type": "code",
      "execution_count": null,
      "metadata": {
        "colab": {
          "base_uri": "https://localhost:8080/",
          "height": 617
        },
        "id": "dexQHOQ5YRos",
        "outputId": "3369e40d-e8e9-4c6b-fb2c-7dffd9d305da"
      },
      "outputs": [
        {
          "data": {
            "application/javascript": "\n(function(root) {\n  function now() {\n    return new Date();\n  }\n\n  var force = true;\n\n  if (typeof root._bokeh_onload_callbacks === \"undefined\" || force === true) {\n    root._bokeh_onload_callbacks = [];\n    root._bokeh_is_loading = undefined;\n  }\n\n  var JS_MIME_TYPE = 'application/javascript';\n  var HTML_MIME_TYPE = 'text/html';\n  var EXEC_MIME_TYPE = 'application/vnd.bokehjs_exec.v0+json';\n  var CLASS_NAME = 'output_bokeh rendered_html';\n\n  /**\n   * Render data to the DOM node\n   */\n  function render(props, node) {\n    var script = document.createElement(\"script\");\n    node.appendChild(script);\n  }\n\n  /**\n   * Handle when an output is cleared or removed\n   */\n  function handleClearOutput(event, handle) {\n    var cell = handle.cell;\n\n    var id = cell.output_area._bokeh_element_id;\n    var server_id = cell.output_area._bokeh_server_id;\n    // Clean up Bokeh references\n    if (id != null && id in Bokeh.index) {\n      Bokeh.index[id].model.document.clear();\n      delete Bokeh.index[id];\n    }\n\n    if (server_id !== undefined) {\n      // Clean up Bokeh references\n      var cmd = \"from bokeh.io.state import curstate; print(curstate().uuid_to_server['\" + server_id + \"'].get_sessions()[0].document.roots[0]._id)\";\n      cell.notebook.kernel.execute(cmd, {\n        iopub: {\n          output: function(msg) {\n            var id = msg.content.text.trim();\n            if (id in Bokeh.index) {\n              Bokeh.index[id].model.document.clear();\n              delete Bokeh.index[id];\n            }\n          }\n        }\n      });\n      // Destroy server and session\n      var cmd = \"import bokeh.io.notebook as ion; ion.destroy_server('\" + server_id + \"')\";\n      cell.notebook.kernel.execute(cmd);\n    }\n  }\n\n  /**\n   * Handle when a new output is added\n   */\n  function handleAddOutput(event, handle) {\n    var output_area = handle.output_area;\n    var output = handle.output;\n\n    // limit handleAddOutput to display_data with EXEC_MIME_TYPE content only\n    if ((output.output_type != \"display_data\") || (!output.data.hasOwnProperty(EXEC_MIME_TYPE))) {\n      return\n    }\n\n    var toinsert = output_area.element.find(\".\" + CLASS_NAME.split(' ')[0]);\n\n    if (output.metadata[EXEC_MIME_TYPE][\"id\"] !== undefined) {\n      toinsert[toinsert.length - 1].firstChild.textContent = output.data[JS_MIME_TYPE];\n      // store reference to embed id on output_area\n      output_area._bokeh_element_id = output.metadata[EXEC_MIME_TYPE][\"id\"];\n    }\n    if (output.metadata[EXEC_MIME_TYPE][\"server_id\"] !== undefined) {\n      var bk_div = document.createElement(\"div\");\n      bk_div.innerHTML = output.data[HTML_MIME_TYPE];\n      var script_attrs = bk_div.children[0].attributes;\n      for (var i = 0; i < script_attrs.length; i++) {\n        toinsert[toinsert.length - 1].firstChild.setAttribute(script_attrs[i].name, script_attrs[i].value);\n        toinsert[toinsert.length - 1].firstChild.textContent = bk_div.children[0].textContent\n      }\n      // store reference to server id on output_area\n      output_area._bokeh_server_id = output.metadata[EXEC_MIME_TYPE][\"server_id\"];\n    }\n  }\n\n  function register_renderer(events, OutputArea) {\n\n    function append_mime(data, metadata, element) {\n      // create a DOM node to render to\n      var toinsert = this.create_output_subarea(\n        metadata,\n        CLASS_NAME,\n        EXEC_MIME_TYPE\n      );\n      this.keyboard_manager.register_events(toinsert);\n      // Render to node\n      var props = {data: data, metadata: metadata[EXEC_MIME_TYPE]};\n      render(props, toinsert[toinsert.length - 1]);\n      element.append(toinsert);\n      return toinsert\n    }\n\n    /* Handle when an output is cleared or removed */\n    events.on('clear_output.CodeCell', handleClearOutput);\n    events.on('delete.Cell', handleClearOutput);\n\n    /* Handle when a new output is added */\n    events.on('output_added.OutputArea', handleAddOutput);\n\n    /**\n     * Register the mime type and append_mime function with output_area\n     */\n    OutputArea.prototype.register_mime_type(EXEC_MIME_TYPE, append_mime, {\n      /* Is output safe? */\n      safe: true,\n      /* Index of renderer in `output_area.display_order` */\n      index: 0\n    });\n  }\n\n  // register the mime type if in Jupyter Notebook environment and previously unregistered\n  if (root.Jupyter !== undefined) {\n    var events = require('base/js/events');\n    var OutputArea = require('notebook/js/outputarea').OutputArea;\n\n    if (OutputArea.prototype.mime_types().indexOf(EXEC_MIME_TYPE) == -1) {\n      register_renderer(events, OutputArea);\n    }\n  }\n\n  \n  if (typeof (root._bokeh_timeout) === \"undefined\" || force === true) {\n    root._bokeh_timeout = Date.now() + 5000;\n    root._bokeh_failed_load = false;\n  }\n\n  var NB_LOAD_WARNING = {'data': {'text/html':\n     \"<div style='background-color: #fdd'>\\n\"+\n     \"<p>\\n\"+\n     \"BokehJS does not appear to have successfully loaded. If loading BokehJS from CDN, this \\n\"+\n     \"may be due to a slow or bad network connection. Possible fixes:\\n\"+\n     \"</p>\\n\"+\n     \"<ul>\\n\"+\n     \"<li>re-rerun `output_notebook()` to attempt to load from CDN again, or</li>\\n\"+\n     \"<li>use INLINE resources instead, as so:</li>\\n\"+\n     \"</ul>\\n\"+\n     \"<code>\\n\"+\n     \"from bokeh.resources import INLINE\\n\"+\n     \"output_notebook(resources=INLINE)\\n\"+\n     \"</code>\\n\"+\n     \"</div>\"}};\n\n  function display_loaded() {\n    var el = document.getElementById(null);\n    if (el != null) {\n      el.textContent = \"BokehJS is loading...\";\n    }\n    if (root.Bokeh !== undefined) {\n      if (el != null) {\n        el.textContent = \"BokehJS \" + root.Bokeh.version + \" successfully loaded.\";\n      }\n    } else if (Date.now() < root._bokeh_timeout) {\n      setTimeout(display_loaded, 100)\n    }\n  }\n\n\n  function run_callbacks() {\n    try {\n      root._bokeh_onload_callbacks.forEach(function(callback) {\n        if (callback != null)\n          callback();\n      });\n    } finally {\n      delete root._bokeh_onload_callbacks\n    }\n    console.debug(\"Bokeh: all callbacks have finished\");\n  }\n\n  function load_libs(css_urls, js_urls, callback) {\n    if (css_urls == null) css_urls = [];\n    if (js_urls == null) js_urls = [];\n\n    root._bokeh_onload_callbacks.push(callback);\n    if (root._bokeh_is_loading > 0) {\n      console.debug(\"Bokeh: BokehJS is being loaded, scheduling callback at\", now());\n      return null;\n    }\n    if (js_urls == null || js_urls.length === 0) {\n      run_callbacks();\n      return null;\n    }\n    console.debug(\"Bokeh: BokehJS not loaded, scheduling load and callback at\", now());\n    root._bokeh_is_loading = css_urls.length + js_urls.length;\n\n    function on_load() {\n      root._bokeh_is_loading--;\n      if (root._bokeh_is_loading === 0) {\n        console.debug(\"Bokeh: all BokehJS libraries/stylesheets loaded\");\n        run_callbacks()\n      }\n    }\n\n    function on_error() {\n      console.error(\"failed to load \" + url);\n    }\n\n    for (var i = 0; i < css_urls.length; i++) {\n      var url = css_urls[i];\n      const element = document.createElement(\"link\");\n      element.onload = on_load;\n      element.onerror = on_error;\n      element.rel = \"stylesheet\";\n      element.type = \"text/css\";\n      element.href = url;\n      console.debug(\"Bokeh: injecting link tag for BokehJS stylesheet: \", url);\n      document.body.appendChild(element);\n    }\n\n    const hashes = {\"https://cdn.bokeh.org/bokeh/release/bokeh-2.1.1.min.js\": \"kLr4fYcqcSpbuI95brIH3vnnYCquzzSxHPU6XGQCIkQRGJwhg0StNbj1eegrHs12\", \"https://cdn.bokeh.org/bokeh/release/bokeh-widgets-2.1.1.min.js\": \"xIGPmVtaOm+z0BqfSOMn4lOR6ciex448GIKG4eE61LsAvmGj48XcMQZtKcE/UXZe\", \"https://cdn.bokeh.org/bokeh/release/bokeh-tables-2.1.1.min.js\": \"Dc9u1wF/0zApGIWoBbH77iWEHtdmkuYWG839Uzmv8y8yBLXebjO9ZnERsde5Ln/P\", \"https://cdn.bokeh.org/bokeh/release/bokeh-gl-2.1.1.min.js\": \"cT9JaBz7GiRXdENrJLZNSC6eMNF3nh3fa5fTF51Svp+ukxPdwcU5kGXGPBgDCa2j\"};\n\n    for (var i = 0; i < js_urls.length; i++) {\n      var url = js_urls[i];\n      var element = document.createElement('script');\n      element.onload = on_load;\n      element.onerror = on_error;\n      element.async = false;\n      element.src = url;\n      if (url in hashes) {\n        element.crossOrigin = \"anonymous\";\n        element.integrity = \"sha384-\" + hashes[url];\n      }\n      console.debug(\"Bokeh: injecting script tag for BokehJS library: \", url);\n      document.head.appendChild(element);\n    }\n  };\n\n  function inject_raw_css(css) {\n    const element = document.createElement(\"style\");\n    element.appendChild(document.createTextNode(css));\n    document.body.appendChild(element);\n  }\n\n  \n  var js_urls = [\"https://cdn.bokeh.org/bokeh/release/bokeh-2.1.1.min.js\", \"https://cdn.bokeh.org/bokeh/release/bokeh-widgets-2.1.1.min.js\", \"https://cdn.bokeh.org/bokeh/release/bokeh-tables-2.1.1.min.js\", \"https://cdn.bokeh.org/bokeh/release/bokeh-gl-2.1.1.min.js\"];\n  var css_urls = [];\n  \n\n  var inline_js = [\n    function(Bokeh) {\n      Bokeh.set_log_level(\"info\");\n    },\n    function(Bokeh) {\n    \n    \n    }\n  ];\n\n  function run_inline_js() {\n    \n    if (root.Bokeh !== undefined || force === true) {\n      \n    for (var i = 0; i < inline_js.length; i++) {\n      inline_js[i].call(root, root.Bokeh);\n    }\n    } else if (Date.now() < root._bokeh_timeout) {\n      setTimeout(run_inline_js, 100);\n    } else if (!root._bokeh_failed_load) {\n      console.log(\"Bokeh: BokehJS failed to load within specified timeout.\");\n      root._bokeh_failed_load = true;\n    } else if (force !== true) {\n      var cell = $(document.getElementById(null)).parents('.cell').data().cell;\n      cell.output_area.append_execute_result(NB_LOAD_WARNING)\n    }\n\n  }\n\n  if (root._bokeh_is_loading === 0) {\n    console.debug(\"Bokeh: BokehJS loaded, going straight to plotting\");\n    run_inline_js();\n  } else {\n    load_libs(css_urls, js_urls, function() {\n      console.debug(\"Bokeh: BokehJS plotting callback run at\", now());\n      run_inline_js();\n    });\n  }\n}(window));",
            "application/vnd.bokehjs_load.v0+json": ""
          },
          "metadata": {
            "tags": []
          },
          "output_type": "display_data"
        },
        {
          "data": {
            "text/html": [
              "\n",
              "\n",
              "\n",
              "\n",
              "\n",
              "\n",
              "  <div class=\"bk-root\" id=\"04f0df3f-020c-4404-ae02-e93359b85d59\" data-root-id=\"5278\"></div>\n"
            ]
          },
          "metadata": {
            "tags": []
          },
          "output_type": "display_data"
        },
        {
          "data": {
            "application/javascript": "(function(root) {\n  function embed_document(root) {\n    \n  var docs_json = {\"d959c915-5c3d-414c-b84e-3ef018762935\":{\"roots\":{\"references\":[{\"attributes\":{\"below\":[{\"id\":\"5289\"}],\"center\":[{\"id\":\"5292\"},{\"id\":\"5296\"}],\"left\":[{\"id\":\"5293\"}],\"renderers\":[{\"id\":\"5314\"},{\"id\":\"5319\"}],\"title\":{\"id\":\"5279\"},\"toolbar\":{\"id\":\"5304\"},\"x_range\":{\"id\":\"5281\"},\"x_scale\":{\"id\":\"5285\"},\"y_range\":{\"id\":\"5283\"},\"y_scale\":{\"id\":\"5287\"}},\"id\":\"5278\",\"subtype\":\"Figure\",\"type\":\"Plot\"},{\"attributes\":{},\"id\":\"5614\",\"type\":\"Selection\"},{\"attributes\":{\"data_source\":{\"id\":\"5316\"},\"glyph\":{\"id\":\"5317\"},\"hover_glyph\":null,\"muted_glyph\":null,\"nonselection_glyph\":{\"id\":\"5318\"},\"selection_glyph\":null,\"view\":{\"id\":\"5320\"}},\"id\":\"5319\",\"type\":\"GlyphRenderer\"},{\"attributes\":{},\"id\":\"5300\",\"type\":\"SaveTool\"},{\"attributes\":{\"source\":{\"id\":\"5316\"}},\"id\":\"5320\",\"type\":\"CDSView\"},{\"attributes\":{},\"id\":\"5294\",\"type\":\"BasicTicker\"},{\"attributes\":{\"source\":{\"id\":\"5311\"}},\"id\":\"5315\",\"type\":\"CDSView\"},{\"attributes\":{\"fill_alpha\":{\"value\":0.1},\"fill_color\":{\"value\":\"#1f77b4\"},\"line_alpha\":{\"value\":0.1},\"line_color\":{\"value\":\"#1f77b4\"},\"x\":{\"field\":\"x\"},\"y\":{\"field\":\"y\"}},\"id\":\"5318\",\"type\":\"Scatter\"},{\"attributes\":{\"fill_color\":{\"value\":\"#1f77b4\"},\"line_color\":{\"value\":\"#1f77b4\"},\"x\":{\"field\":\"x\"},\"y\":{\"field\":\"y\"}},\"id\":\"5317\",\"type\":\"Scatter\"},{\"attributes\":{\"bottom_units\":\"screen\",\"fill_alpha\":0.5,\"fill_color\":\"lightgrey\",\"left_units\":\"screen\",\"level\":\"overlay\",\"line_alpha\":1.0,\"line_color\":\"black\",\"line_dash\":[4,4],\"line_width\":2,\"right_units\":\"screen\",\"top_units\":\"screen\"},\"id\":\"5303\",\"type\":\"BoxAnnotation\"},{\"attributes\":{\"base\":60,\"mantissas\":[1,2,5,10,15,20,30],\"max_interval\":1800000.0,\"min_interval\":1000.0,\"num_minor_ticks\":0},\"id\":\"5617\",\"type\":\"AdaptiveTicker\"},{\"attributes\":{},\"id\":\"5285\",\"type\":\"LinearScale\"},{\"attributes\":{},\"id\":\"5302\",\"type\":\"HelpTool\"},{\"attributes\":{\"line_color\":\"#1f77b4\",\"x\":{\"field\":\"x\"},\"y\":{\"field\":\"y\"}},\"id\":\"5312\",\"type\":\"Line\"},{\"attributes\":{\"months\":[0,6]},\"id\":\"5626\",\"type\":\"MonthsTicker\"},{\"attributes\":{\"days\":[1,4,7,10,13,16,19,22,25,28]},\"id\":\"5620\",\"type\":\"DaysTicker\"},{\"attributes\":{},\"id\":\"5281\",\"type\":\"DataRange1d\"},{\"attributes\":{\"end\":10.0,\"start\":-10.0},\"id\":\"5283\",\"type\":\"Range1d\"},{\"attributes\":{\"mantissas\":[1,2,5],\"max_interval\":500.0,\"num_minor_ticks\":0},\"id\":\"5616\",\"type\":\"AdaptiveTicker\"},{\"attributes\":{},\"id\":\"5609\",\"type\":\"DatetimeTickFormatter\"},{\"attributes\":{},\"id\":\"5287\",\"type\":\"LinearScale\"},{\"attributes\":{\"data_source\":{\"id\":\"5311\"},\"glyph\":{\"id\":\"5312\"},\"hover_glyph\":null,\"muted_glyph\":null,\"nonselection_glyph\":{\"id\":\"5313\"},\"selection_glyph\":null,\"view\":{\"id\":\"5315\"}},\"id\":\"5314\",\"type\":\"GlyphRenderer\"},{\"attributes\":{\"num_minor_ticks\":5,\"tickers\":[{\"id\":\"5616\"},{\"id\":\"5617\"},{\"id\":\"5618\"},{\"id\":\"5619\"},{\"id\":\"5620\"},{\"id\":\"5621\"},{\"id\":\"5622\"},{\"id\":\"5623\"},{\"id\":\"5624\"},{\"id\":\"5625\"},{\"id\":\"5626\"},{\"id\":\"5627\"}]},\"id\":\"5290\",\"type\":\"DatetimeTicker\"},{\"attributes\":{\"days\":[1,2,3,4,5,6,7,8,9,10,11,12,13,14,15,16,17,18,19,20,21,22,23,24,25,26,27,28,29,30,31]},\"id\":\"5619\",\"type\":\"DaysTicker\"},{\"attributes\":{\"overlay\":{\"id\":\"5303\"}},\"id\":\"5299\",\"type\":\"BoxZoomTool\"},{\"attributes\":{\"months\":[0,4,8]},\"id\":\"5625\",\"type\":\"MonthsTicker\"},{\"attributes\":{},\"id\":\"5627\",\"type\":\"YearsTicker\"},{\"attributes\":{\"data\":{\"x\":{\"__ndarray__\":\"AAAAdYtgd0IAALjBlWB3QgAAcA6gYHdCAAAoW6pgd0IAAOCntGB3Qg==\",\"dtype\":\"float64\",\"order\":\"little\",\"shape\":[5]},\"y\":{\"__ndarray__\":\"I8Iawowk6b8gtB6+TPQJQIV4JF6e/hxAmiMrvwwG4b82ggFC8zLtPw==\",\"dtype\":\"float64\",\"order\":\"little\",\"shape\":[5]}},\"selected\":{\"id\":\"5614\"},\"selection_policy\":{\"id\":\"5615\"}},\"id\":\"5316\",\"type\":\"ColumnDataSource\"},{\"attributes\":{},\"id\":\"5301\",\"type\":\"ResetTool\"},{\"attributes\":{\"line_alpha\":0.1,\"line_color\":\"#1f77b4\",\"x\":{\"field\":\"x\"},\"y\":{\"field\":\"y\"}},\"id\":\"5313\",\"type\":\"Line\"},{\"attributes\":{},\"id\":\"5611\",\"type\":\"BasicTickFormatter\"},{\"attributes\":{\"active_drag\":\"auto\",\"active_inspect\":\"auto\",\"active_multi\":null,\"active_scroll\":\"auto\",\"active_tap\":\"auto\",\"tools\":[{\"id\":\"5297\"},{\"id\":\"5298\"},{\"id\":\"5299\"},{\"id\":\"5300\"},{\"id\":\"5301\"},{\"id\":\"5302\"}]},\"id\":\"5304\",\"type\":\"Toolbar\"},{\"attributes\":{\"data\":{\"x\":{\"__ndarray__\":\"AAAAdYtgd0IAALjBlWB3QgAAcA6gYHdCAAAoW6pgd0IAAOCntGB3Qg==\",\"dtype\":\"float64\",\"order\":\"little\",\"shape\":[5]},\"y\":{\"__ndarray__\":\"I8Iawowk6b8gtB6+TPQJQIV4JF6e/hxAmiMrvwwG4b82ggFC8zLtPw==\",\"dtype\":\"float64\",\"order\":\"little\",\"shape\":[5]}},\"selected\":{\"id\":\"5612\"},\"selection_policy\":{\"id\":\"5613\"}},\"id\":\"5311\",\"type\":\"ColumnDataSource\"},{\"attributes\":{},\"id\":\"5615\",\"type\":\"UnionRenderers\"},{\"attributes\":{},\"id\":\"5297\",\"type\":\"PanTool\"},{\"attributes\":{},\"id\":\"5613\",\"type\":\"UnionRenderers\"},{\"attributes\":{\"axis_label\":\"Temperature (Celsius)\",\"formatter\":{\"id\":\"5611\"},\"ticker\":{\"id\":\"5294\"}},\"id\":\"5293\",\"type\":\"LinearAxis\"},{\"attributes\":{\"axis\":{\"id\":\"5293\"},\"dimension\":1,\"ticker\":null},\"id\":\"5296\",\"type\":\"Grid\"},{\"attributes\":{},\"id\":\"5612\",\"type\":\"Selection\"},{\"attributes\":{\"text\":\"Air temperature forecast\"},\"id\":\"5279\",\"type\":\"Title\"},{\"attributes\":{\"days\":[1,15]},\"id\":\"5622\",\"type\":\"DaysTicker\"},{\"attributes\":{\"days\":[1,8,15,22]},\"id\":\"5621\",\"type\":\"DaysTicker\"},{\"attributes\":{\"months\":[0,1,2,3,4,5,6,7,8,9,10,11]},\"id\":\"5623\",\"type\":\"MonthsTicker\"},{\"attributes\":{\"axis\":{\"id\":\"5289\"},\"ticker\":null},\"id\":\"5292\",\"type\":\"Grid\"},{\"attributes\":{},\"id\":\"5298\",\"type\":\"WheelZoomTool\"},{\"attributes\":{\"axis_label\":\"Time of day\",\"formatter\":{\"id\":\"5609\"},\"ticker\":{\"id\":\"5290\"}},\"id\":\"5289\",\"type\":\"DatetimeAxis\"},{\"attributes\":{\"base\":24,\"mantissas\":[1,2,4,6,8,12],\"max_interval\":43200000.0,\"min_interval\":3600000.0,\"num_minor_ticks\":0},\"id\":\"5618\",\"type\":\"AdaptiveTicker\"},{\"attributes\":{\"months\":[0,2,4,6,8,10]},\"id\":\"5624\",\"type\":\"MonthsTicker\"}],\"root_ids\":[\"5278\"]},\"title\":\"Bokeh Application\",\"version\":\"2.1.1\"}};\n  var render_items = [{\"docid\":\"d959c915-5c3d-414c-b84e-3ef018762935\",\"root_ids\":[\"5278\"],\"roots\":{\"5278\":\"04f0df3f-020c-4404-ae02-e93359b85d59\"}}];\n  root.Bokeh.embed.embed_items_notebook(docs_json, render_items);\n\n  }\n  if (root.Bokeh !== undefined) {\n    embed_document(root);\n  } else {\n    var attempts = 0;\n    var timer = setInterval(function(root) {\n      if (root.Bokeh !== undefined) {\n        clearInterval(timer);\n        embed_document(root);\n      } else {\n        attempts++;\n        if (attempts > 100) {\n          clearInterval(timer);\n          console.log(\"Bokeh: ERROR: Unable to run BokehJS code because BokehJS library is missing\");\n        }\n      }\n    }, 10, root)\n  }\n})(window);",
            "application/vnd.bokehjs_exec.v0+json": ""
          },
          "metadata": {
            "application/vnd.bokehjs_exec.v0+json": {
              "id": "5278"
            },
            "tags": []
          },
          "output_type": "display_data"
        }
      ],
      "source": [
        "# Update the x-axis values to show based on your time, not UTC\n",
        "x = air_temps_df.index + timedelta(hours=my_time_difference)\n",
        "y = air_temps_df['air_temp']\n",
        "\n",
        "# Show the temperatures in increments of 10\n",
        "y_min = round_multiple(y.min(), 10)\n",
        "if y_min > y.min():\n",
        "    y_min -= 10\n",
        "\n",
        "y_max = round_multiple(y.max(), 10)\n",
        "if y_max < y.max():\n",
        "    y_max += 10\n",
        "\n",
        "p = figure(title='Air temperature forecast', x_axis_type='datetime',\n",
        "           x_axis_label='Time of day', y_axis_label='Temperature (Celsius)',\n",
        "           y_range=[y_min, y_max])\n",
        "\n",
        "p.line(x=x, y=y)\n",
        "p.scatter(x=x, y=y)\n",
        "\n",
        "show(p)"
      ]
    },
    {
      "cell_type": "markdown",
      "metadata": {
        "id": "ZTB8ZfnygrQ2"
      },
      "source": [
        "**Challenge**: Add a widget button to the above plot which refreshes the weather data when pressed."
      ]
    },
    {
      "cell_type": "markdown",
      "metadata": {
        "id": "wbRZqea8g537"
      },
      "source": [
        "## Extra: Getting Different Types of Data\n",
        "\n",
        "For different kinds of data, such as precipitation, we have to update the layers in our URL. The available layers can be seen by downloading the XML document returned from a request to the `GetCapabilites` endpoint of the URL. The below function downloads this data to a file for you (it may take a while)."
      ]
    },
    {
      "cell_type": "code",
      "execution_count": null,
      "metadata": {
        "id": "pVIIzz942_9u"
      },
      "outputs": [],
      "source": [
        "def get_api_capabilities():\n",
        "    \"\"\"Writes the response of the API capabilities request to `capabilities.xml`.\n",
        "\n",
        "    This request returns XML with data on everything the API can do.\n",
        "    \"\"\"\n",
        "    url = 'https://geo.weather.gc.ca/geomet?SERVICE=WMS&REQUEST=GetCapabilities&VERSION=1.3.0'\n",
        "\n",
        "    res = requests.get(url)\n",
        "\n",
        "    with open('capabilities.xml', 'w') as f:\n",
        "        f.write(res.text)\n",
        "\n",
        "get_api_capabilities()"
      ]
    },
    {
      "cell_type": "markdown",
      "metadata": {
        "id": "6FSUyuc5hWq7"
      },
      "source": [
        "Within the downloaded XML, you'll find a `Layer` tag which contains all of the available layers. The `Name` tags contain the layer names which should be used in the URL, and next to those names there will be descriptions of the type of data.\n",
        "\n",
        "**Challenge**: Find a new type of data and make a request to get that data. To do this, perform a search for `GDPS.ETA_TT` (the air temperature layer), and choose a name in the same area as that tag. The name should probably start with `GDPS.`.\n",
        "\n",
        "If you get an error with calling `res.json()`, try a different name."
      ]
    },
    {
      "cell_type": "code",
      "execution_count": null,
      "metadata": {
        "colab": {
          "base_uri": "https://localhost:8080/"
        },
        "id": "khyHRRhhiA-c",
        "outputId": "2e1fe917-8e46-4b10-da2c-9f7107ab9598"
      },
      "outputs": [
        {
          "data": {
            "text/plain": [
              "{'features': [{'geometry': {'coordinates': [-114.3, 51.9], 'type': 'Point'},\n",
              "   'id': 'GDPS.ETA_ES/-114.3/51.9',\n",
              "   'properties': {'value': '4.5'},\n",
              "   'type': 'Feature'}],\n",
              " 'layer': 'GDPS.ETA_ES',\n",
              " 'type': 'FeatureCollection'}"
            ]
          },
          "execution_count": 100,
          "metadata": {
            "tags": []
          },
          "output_type": "execute_result"
        }
      ],
      "source": [
        "# This layer will give dew point temperature\n",
        "url, pred_time = get_api_url(datetime.now(), lat=51, lng=-114, layers='GDPS.ETA_ES')\n",
        "res = requests.get(url)\n",
        "res.json()"
      ]
    }
  ],
  "metadata": {
    "colab": {
      "provenance": [],
      "include_colab_link": true
    },
    "kernelspec": {
      "display_name": "Python 3",
      "name": "python3"
    }
  },
  "nbformat": 4,
  "nbformat_minor": 0
}