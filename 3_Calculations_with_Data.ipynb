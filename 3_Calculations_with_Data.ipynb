{
  "cells": [
    {
      "cell_type": "markdown",
      "metadata": {
        "id": "view-in-github",
        "colab_type": "text"
      },
      "source": [
        "<a href=\"https://colab.research.google.com/github/MazRadwan/data_science/blob/main/3_Calculations_with_Data.ipynb\" target=\"_parent\"><img src=\"https://colab.research.google.com/assets/colab-badge.svg\" alt=\"Open In Colab\"/></a>"
      ]
    },
    {
      "cell_type": "markdown",
      "metadata": {
        "id": "haIgVKerTm_s"
      },
      "source": [
        "# Python and Data Analysis 3 - Calculations with Data\n",
        "\n",
        "**Goal:** The goal of this project is to learn to calculate information from measured data.\n",
        "\n",
        "**Description:** Data that is given to us is often considered *measured* - it is a real world observation that is recorded and put into a DataFrame. To turn this into information, we need to be able to use the data in calculations. This workshop covers how to create *calculated columns*, and how to calculate *summary statistics*."
      ]
    },
    {
      "cell_type": "code",
      "source": [
        "# A calculated column is a new column that is added to the dataframe based on existing column\n",
        "amzn = pd.read_csv('AMZN.csv')\n",
        "print(amzn.head)"
      ],
      "metadata": {
        "colab": {
          "base_uri": "https://localhost:8080/"
        },
        "id": "umtnXd8ilycZ",
        "outputId": "8462d4a0-fdfe-4933-9cd7-bf12e96cdabd"
      },
      "execution_count": null,
      "outputs": [
        {
          "output_type": "stream",
          "name": "stdout",
          "text": [
            "<bound method NDFrame.head of             date       open       high        low      close    volume\n",
            "0     1997-05-16     1.8650     1.9792     1.7083     1.7292  14700000\n",
            "1     1997-05-19     1.7083     1.7708     1.6250     1.7083   6106800\n",
            "2     1997-05-20     1.7292     1.7500     1.6358     1.6358   5467200\n",
            "3     1997-05-21     1.6042     1.6458     1.3750     1.4275  18853200\n",
            "4     1997-05-22     1.4375     1.4483     1.3125     1.3958  11776800\n",
            "...          ...        ...        ...        ...        ...       ...\n",
            "5802  2020-06-08  2500.2000  2530.0000  2487.3400  2524.0600   3957871\n",
            "5803  2020-06-09  2529.4400  2626.4300  2525.0000  2600.8600   5175950\n",
            "5804  2020-06-10  2645.0000  2722.3500  2626.2600  2647.4500   4913985\n",
            "5805  2020-06-11  2603.5000  2671.3800  2536.2300  2557.9600   5753417\n",
            "5806  2020-06-12  2601.2100  2621.4800  2503.3500  2545.0200   5436127\n",
            "\n",
            "[5807 rows x 6 columns]>\n"
          ]
        }
      ]
    },
    {
      "cell_type": "markdown",
      "metadata": {
        "id": "onqkQ_nDTm_u"
      },
      "source": [
        "## 3A: Calculated Columns\n",
        "\n",
        "A calculated column is a column that is added to a DataFrame based on existing columns. In the following DataFrame, we have price information for Amazon's stock. It contains the columns `date`, `open`, `high`, `low`, `close`, and `volume`. We can create a calculated column in two ways."
      ]
    },
    {
      "cell_type": "code",
      "execution_count": null,
      "metadata": {
        "colab": {
          "base_uri": "https://localhost:8080/"
        },
        "id": "7osEZ0FfTm_v",
        "outputId": "02fb67e2-4403-42ad-a91c-1e1423c1e179"
      },
      "outputs": [
        {
          "output_type": "stream",
          "name": "stdout",
          "text": [
            "         date    open    high     low   close    volume\n",
            "0  1997-05-16  1.8650  1.9792  1.7083  1.7292  14700000\n",
            "1  1997-05-19  1.7083  1.7708  1.6250  1.7083   6106800\n",
            "2  1997-05-20  1.7292  1.7500  1.6358  1.6358   5467200\n",
            "3  1997-05-21  1.6042  1.6458  1.3750  1.4275  18853200\n",
            "4  1997-05-22  1.4375  1.4483  1.3125  1.3958  11776800\n"
          ]
        }
      ],
      "source": [
        "import pandas as pd\n",
        "amzn = pd.read_csv('AMZN.csv')\n",
        "print(amzn.head())"
      ]
    },
    {
      "cell_type": "code",
      "source": [
        "amzn['daily_change'] = amzn['open'] - amzn['close']\n",
        "amzn.head()"
      ],
      "metadata": {
        "colab": {
          "base_uri": "https://localhost:8080/",
          "height": 206
        },
        "id": "5NcRUDOBmiyp",
        "outputId": "0e50136c-49ef-4d77-a795-878392966da7"
      },
      "execution_count": null,
      "outputs": [
        {
          "output_type": "execute_result",
          "data": {
            "text/plain": [
              "         date    open    high     low   close    volume  daily_change\n",
              "0  1997-05-16  1.8650  1.9792  1.7083  1.7292  14700000        0.1358\n",
              "1  1997-05-19  1.7083  1.7708  1.6250  1.7083   6106800        0.0000\n",
              "2  1997-05-20  1.7292  1.7500  1.6358  1.6358   5467200        0.0934\n",
              "3  1997-05-21  1.6042  1.6458  1.3750  1.4275  18853200        0.1767\n",
              "4  1997-05-22  1.4375  1.4483  1.3125  1.3958  11776800        0.0417"
            ],
            "text/html": [
              "\n",
              "  <div id=\"df-39a3a2c5-e7b8-43f4-9a68-134525b1b03a\" class=\"colab-df-container\">\n",
              "    <div>\n",
              "<style scoped>\n",
              "    .dataframe tbody tr th:only-of-type {\n",
              "        vertical-align: middle;\n",
              "    }\n",
              "\n",
              "    .dataframe tbody tr th {\n",
              "        vertical-align: top;\n",
              "    }\n",
              "\n",
              "    .dataframe thead th {\n",
              "        text-align: right;\n",
              "    }\n",
              "</style>\n",
              "<table border=\"1\" class=\"dataframe\">\n",
              "  <thead>\n",
              "    <tr style=\"text-align: right;\">\n",
              "      <th></th>\n",
              "      <th>date</th>\n",
              "      <th>open</th>\n",
              "      <th>high</th>\n",
              "      <th>low</th>\n",
              "      <th>close</th>\n",
              "      <th>volume</th>\n",
              "      <th>daily_change</th>\n",
              "    </tr>\n",
              "  </thead>\n",
              "  <tbody>\n",
              "    <tr>\n",
              "      <th>0</th>\n",
              "      <td>1997-05-16</td>\n",
              "      <td>1.8650</td>\n",
              "      <td>1.9792</td>\n",
              "      <td>1.7083</td>\n",
              "      <td>1.7292</td>\n",
              "      <td>14700000</td>\n",
              "      <td>0.1358</td>\n",
              "    </tr>\n",
              "    <tr>\n",
              "      <th>1</th>\n",
              "      <td>1997-05-19</td>\n",
              "      <td>1.7083</td>\n",
              "      <td>1.7708</td>\n",
              "      <td>1.6250</td>\n",
              "      <td>1.7083</td>\n",
              "      <td>6106800</td>\n",
              "      <td>0.0000</td>\n",
              "    </tr>\n",
              "    <tr>\n",
              "      <th>2</th>\n",
              "      <td>1997-05-20</td>\n",
              "      <td>1.7292</td>\n",
              "      <td>1.7500</td>\n",
              "      <td>1.6358</td>\n",
              "      <td>1.6358</td>\n",
              "      <td>5467200</td>\n",
              "      <td>0.0934</td>\n",
              "    </tr>\n",
              "    <tr>\n",
              "      <th>3</th>\n",
              "      <td>1997-05-21</td>\n",
              "      <td>1.6042</td>\n",
              "      <td>1.6458</td>\n",
              "      <td>1.3750</td>\n",
              "      <td>1.4275</td>\n",
              "      <td>18853200</td>\n",
              "      <td>0.1767</td>\n",
              "    </tr>\n",
              "    <tr>\n",
              "      <th>4</th>\n",
              "      <td>1997-05-22</td>\n",
              "      <td>1.4375</td>\n",
              "      <td>1.4483</td>\n",
              "      <td>1.3125</td>\n",
              "      <td>1.3958</td>\n",
              "      <td>11776800</td>\n",
              "      <td>0.0417</td>\n",
              "    </tr>\n",
              "  </tbody>\n",
              "</table>\n",
              "</div>\n",
              "    <div class=\"colab-df-buttons\">\n",
              "\n",
              "  <div class=\"colab-df-container\">\n",
              "    <button class=\"colab-df-convert\" onclick=\"convertToInteractive('df-39a3a2c5-e7b8-43f4-9a68-134525b1b03a')\"\n",
              "            title=\"Convert this dataframe to an interactive table.\"\n",
              "            style=\"display:none;\">\n",
              "\n",
              "  <svg xmlns=\"http://www.w3.org/2000/svg\" height=\"24px\" viewBox=\"0 -960 960 960\">\n",
              "    <path d=\"M120-120v-720h720v720H120Zm60-500h600v-160H180v160Zm220 220h160v-160H400v160Zm0 220h160v-160H400v160ZM180-400h160v-160H180v160Zm440 0h160v-160H620v160ZM180-180h160v-160H180v160Zm440 0h160v-160H620v160Z\"/>\n",
              "  </svg>\n",
              "    </button>\n",
              "\n",
              "  <style>\n",
              "    .colab-df-container {\n",
              "      display:flex;\n",
              "      gap: 12px;\n",
              "    }\n",
              "\n",
              "    .colab-df-convert {\n",
              "      background-color: #E8F0FE;\n",
              "      border: none;\n",
              "      border-radius: 50%;\n",
              "      cursor: pointer;\n",
              "      display: none;\n",
              "      fill: #1967D2;\n",
              "      height: 32px;\n",
              "      padding: 0 0 0 0;\n",
              "      width: 32px;\n",
              "    }\n",
              "\n",
              "    .colab-df-convert:hover {\n",
              "      background-color: #E2EBFA;\n",
              "      box-shadow: 0px 1px 2px rgba(60, 64, 67, 0.3), 0px 1px 3px 1px rgba(60, 64, 67, 0.15);\n",
              "      fill: #174EA6;\n",
              "    }\n",
              "\n",
              "    .colab-df-buttons div {\n",
              "      margin-bottom: 4px;\n",
              "    }\n",
              "\n",
              "    [theme=dark] .colab-df-convert {\n",
              "      background-color: #3B4455;\n",
              "      fill: #D2E3FC;\n",
              "    }\n",
              "\n",
              "    [theme=dark] .colab-df-convert:hover {\n",
              "      background-color: #434B5C;\n",
              "      box-shadow: 0px 1px 3px 1px rgba(0, 0, 0, 0.15);\n",
              "      filter: drop-shadow(0px 1px 2px rgba(0, 0, 0, 0.3));\n",
              "      fill: #FFFFFF;\n",
              "    }\n",
              "  </style>\n",
              "\n",
              "    <script>\n",
              "      const buttonEl =\n",
              "        document.querySelector('#df-39a3a2c5-e7b8-43f4-9a68-134525b1b03a button.colab-df-convert');\n",
              "      buttonEl.style.display =\n",
              "        google.colab.kernel.accessAllowed ? 'block' : 'none';\n",
              "\n",
              "      async function convertToInteractive(key) {\n",
              "        const element = document.querySelector('#df-39a3a2c5-e7b8-43f4-9a68-134525b1b03a');\n",
              "        const dataTable =\n",
              "          await google.colab.kernel.invokeFunction('convertToInteractive',\n",
              "                                                    [key], {});\n",
              "        if (!dataTable) return;\n",
              "\n",
              "        const docLinkHtml = 'Like what you see? Visit the ' +\n",
              "          '<a target=\"_blank\" href=https://colab.research.google.com/notebooks/data_table.ipynb>data table notebook</a>'\n",
              "          + ' to learn more about interactive tables.';\n",
              "        element.innerHTML = '';\n",
              "        dataTable['output_type'] = 'display_data';\n",
              "        await google.colab.output.renderOutput(dataTable, element);\n",
              "        const docLink = document.createElement('div');\n",
              "        docLink.innerHTML = docLinkHtml;\n",
              "        element.appendChild(docLink);\n",
              "      }\n",
              "    </script>\n",
              "  </div>\n",
              "\n",
              "\n",
              "<div id=\"df-59bf667f-84d3-4aaa-b1f2-eac6a5c04548\">\n",
              "  <button class=\"colab-df-quickchart\" onclick=\"quickchart('df-59bf667f-84d3-4aaa-b1f2-eac6a5c04548')\"\n",
              "            title=\"Suggest charts\"\n",
              "            style=\"display:none;\">\n",
              "\n",
              "<svg xmlns=\"http://www.w3.org/2000/svg\" height=\"24px\"viewBox=\"0 0 24 24\"\n",
              "     width=\"24px\">\n",
              "    <g>\n",
              "        <path d=\"M19 3H5c-1.1 0-2 .9-2 2v14c0 1.1.9 2 2 2h14c1.1 0 2-.9 2-2V5c0-1.1-.9-2-2-2zM9 17H7v-7h2v7zm4 0h-2V7h2v10zm4 0h-2v-4h2v4z\"/>\n",
              "    </g>\n",
              "</svg>\n",
              "  </button>\n",
              "\n",
              "<style>\n",
              "  .colab-df-quickchart {\n",
              "      --bg-color: #E8F0FE;\n",
              "      --fill-color: #1967D2;\n",
              "      --hover-bg-color: #E2EBFA;\n",
              "      --hover-fill-color: #174EA6;\n",
              "      --disabled-fill-color: #AAA;\n",
              "      --disabled-bg-color: #DDD;\n",
              "  }\n",
              "\n",
              "  [theme=dark] .colab-df-quickchart {\n",
              "      --bg-color: #3B4455;\n",
              "      --fill-color: #D2E3FC;\n",
              "      --hover-bg-color: #434B5C;\n",
              "      --hover-fill-color: #FFFFFF;\n",
              "      --disabled-bg-color: #3B4455;\n",
              "      --disabled-fill-color: #666;\n",
              "  }\n",
              "\n",
              "  .colab-df-quickchart {\n",
              "    background-color: var(--bg-color);\n",
              "    border: none;\n",
              "    border-radius: 50%;\n",
              "    cursor: pointer;\n",
              "    display: none;\n",
              "    fill: var(--fill-color);\n",
              "    height: 32px;\n",
              "    padding: 0;\n",
              "    width: 32px;\n",
              "  }\n",
              "\n",
              "  .colab-df-quickchart:hover {\n",
              "    background-color: var(--hover-bg-color);\n",
              "    box-shadow: 0 1px 2px rgba(60, 64, 67, 0.3), 0 1px 3px 1px rgba(60, 64, 67, 0.15);\n",
              "    fill: var(--button-hover-fill-color);\n",
              "  }\n",
              "\n",
              "  .colab-df-quickchart-complete:disabled,\n",
              "  .colab-df-quickchart-complete:disabled:hover {\n",
              "    background-color: var(--disabled-bg-color);\n",
              "    fill: var(--disabled-fill-color);\n",
              "    box-shadow: none;\n",
              "  }\n",
              "\n",
              "  .colab-df-spinner {\n",
              "    border: 2px solid var(--fill-color);\n",
              "    border-color: transparent;\n",
              "    border-bottom-color: var(--fill-color);\n",
              "    animation:\n",
              "      spin 1s steps(1) infinite;\n",
              "  }\n",
              "\n",
              "  @keyframes spin {\n",
              "    0% {\n",
              "      border-color: transparent;\n",
              "      border-bottom-color: var(--fill-color);\n",
              "      border-left-color: var(--fill-color);\n",
              "    }\n",
              "    20% {\n",
              "      border-color: transparent;\n",
              "      border-left-color: var(--fill-color);\n",
              "      border-top-color: var(--fill-color);\n",
              "    }\n",
              "    30% {\n",
              "      border-color: transparent;\n",
              "      border-left-color: var(--fill-color);\n",
              "      border-top-color: var(--fill-color);\n",
              "      border-right-color: var(--fill-color);\n",
              "    }\n",
              "    40% {\n",
              "      border-color: transparent;\n",
              "      border-right-color: var(--fill-color);\n",
              "      border-top-color: var(--fill-color);\n",
              "    }\n",
              "    60% {\n",
              "      border-color: transparent;\n",
              "      border-right-color: var(--fill-color);\n",
              "    }\n",
              "    80% {\n",
              "      border-color: transparent;\n",
              "      border-right-color: var(--fill-color);\n",
              "      border-bottom-color: var(--fill-color);\n",
              "    }\n",
              "    90% {\n",
              "      border-color: transparent;\n",
              "      border-bottom-color: var(--fill-color);\n",
              "    }\n",
              "  }\n",
              "</style>\n",
              "\n",
              "  <script>\n",
              "    async function quickchart(key) {\n",
              "      const quickchartButtonEl =\n",
              "        document.querySelector('#' + key + ' button');\n",
              "      quickchartButtonEl.disabled = true;  // To prevent multiple clicks.\n",
              "      quickchartButtonEl.classList.add('colab-df-spinner');\n",
              "      try {\n",
              "        const charts = await google.colab.kernel.invokeFunction(\n",
              "            'suggestCharts', [key], {});\n",
              "      } catch (error) {\n",
              "        console.error('Error during call to suggestCharts:', error);\n",
              "      }\n",
              "      quickchartButtonEl.classList.remove('colab-df-spinner');\n",
              "      quickchartButtonEl.classList.add('colab-df-quickchart-complete');\n",
              "    }\n",
              "    (() => {\n",
              "      let quickchartButtonEl =\n",
              "        document.querySelector('#df-59bf667f-84d3-4aaa-b1f2-eac6a5c04548 button');\n",
              "      quickchartButtonEl.style.display =\n",
              "        google.colab.kernel.accessAllowed ? 'block' : 'none';\n",
              "    })();\n",
              "  </script>\n",
              "</div>\n",
              "\n",
              "    </div>\n",
              "  </div>\n"
            ],
            "application/vnd.google.colaboratory.intrinsic+json": {
              "type": "dataframe",
              "variable_name": "amzn",
              "summary": "{\n  \"name\": \"amzn\",\n  \"rows\": 5807,\n  \"fields\": [\n    {\n      \"column\": \"date\",\n      \"properties\": {\n        \"dtype\": \"object\",\n        \"num_unique_values\": 5807,\n        \"samples\": [\n          \"1999-05-13\",\n          \"2009-12-10\",\n          \"2013-02-04\"\n        ],\n        \"semantic_type\": \"\",\n        \"description\": \"\"\n      }\n    },\n    {\n      \"column\": \"open\",\n      \"properties\": {\n        \"dtype\": \"number\",\n        \"std\": 553.5136332860725,\n        \"min\": 1.4067,\n        \"max\": 2645.0,\n        \"num_unique_values\": 5067,\n        \"samples\": [\n          1971.14,\n          9.21,\n          258.58\n        ],\n        \"semantic_type\": \"\",\n        \"description\": \"\"\n      }\n    },\n    {\n      \"column\": \"high\",\n      \"properties\": {\n        \"dtype\": \"number\",\n        \"std\": 559.0102896140672,\n        \"min\": 1.4483,\n        \"max\": 2722.35,\n        \"num_unique_values\": 5029,\n        \"samples\": [\n          132.694,\n          218.23,\n          6.17\n        ],\n        \"semantic_type\": \"\",\n        \"description\": \"\"\n      }\n    },\n    {\n      \"column\": \"low\",\n      \"properties\": {\n        \"dtype\": \"number\",\n        \"std\": 547.4794186998336,\n        \"min\": 1.3125,\n        \"max\": 2626.26,\n        \"num_unique_values\": 5024,\n        \"samples\": [\n          38.55,\n          81.56,\n          2382.0\n        ],\n        \"semantic_type\": \"\",\n        \"description\": \"\"\n      }\n    },\n    {\n      \"column\": \"close\",\n      \"properties\": {\n        \"dtype\": \"number\",\n        \"std\": 553.5385593377746,\n        \"min\": 1.3958,\n        \"max\": 2647.45,\n        \"num_unique_values\": 5132,\n        \"samples\": [\n          2367.61,\n          77.37,\n          128.53\n        ],\n        \"semantic_type\": \"\",\n        \"description\": \"\"\n      }\n    },\n    {\n      \"column\": \"volume\",\n      \"properties\": {\n        \"dtype\": \"number\",\n        \"std\": 7216608,\n        \"min\": 487200,\n        \"max\": 104329200,\n        \"num_unique_values\": 5721,\n        \"samples\": [\n          10211100,\n          29529800,\n          1985949\n        ],\n        \"semantic_type\": \"\",\n        \"description\": \"\"\n      }\n    },\n    {\n      \"column\": \"daily_change\",\n      \"properties\": {\n        \"dtype\": \"number\",\n        \"std\": 10.189658290162678,\n        \"min\": -128.8699999999999,\n        \"max\": 121.11999999999989,\n        \"num_unique_values\": 3500,\n        \"samples\": [\n          -12.945000000000007,\n          -2.2799999999999727,\n          2.160000000000025\n        ],\n        \"semantic_type\": \"\",\n        \"description\": \"\"\n      }\n    }\n  ]\n}"
            }
          },
          "metadata": {},
          "execution_count": 7
        }
      ]
    },
    {
      "cell_type": "markdown",
      "metadata": {
        "id": "eQZgsAcuTm_2"
      },
      "source": [
        "### Calculations Across Two Columns\n",
        "\n",
        "Frequently, we want to be able to carry out mathematical operations between two or more columns. The syntax is quite intuitive. For example, we might want to keep track of the daily gains/losses. This can be calculated by subtracting the close price from the opening price: `open - close`."
      ]
    },
    {
      "cell_type": "code",
      "execution_count": null,
      "metadata": {
        "colab": {
          "base_uri": "https://localhost:8080/"
        },
        "id": "kSkUJOTcTm_2",
        "outputId": "893e9e4d-c6cd-4c8e-a4a1-a82896620ab2"
      },
      "outputs": [
        {
          "name": "stdout",
          "output_type": "stream",
          "text": [
            "         date    open    high     low   close    volume  daily_change\n",
            "0  1997-05-16  1.8650  1.9792  1.7083  1.7292  14700000        0.1358\n",
            "1  1997-05-19  1.7083  1.7708  1.6250  1.7083   6106800        0.0000\n",
            "2  1997-05-20  1.7292  1.7500  1.6358  1.6358   5467200        0.0934\n",
            "3  1997-05-21  1.6042  1.6458  1.3750  1.4275  18853200        0.1767\n",
            "4  1997-05-22  1.4375  1.4483  1.3125  1.3958  11776800        0.0417\n"
          ]
        }
      ],
      "source": [
        "amzn['daily_change'] = amzn['open'] - amzn['close']\n",
        "print(amzn.head())"
      ]
    },
    {
      "cell_type": "markdown",
      "metadata": {
        "id": "dJJJU8UUTm_6"
      },
      "source": [
        "A similar syntax can be used for other operations, including multiplication (`*`), division (`/`), addition (`+`) and exponents (`**`). As another example, perhaps we want an approximation of value of trades executed on a particular day by multiplying an average price by the volume. To get an estimate of average price, we will use `(open + high + low + close) / 4`. The final formula is `((open + high + low + close) / 4) * volume)`."
      ]
    },
    {
      "cell_type": "code",
      "source": [
        "amzn['daily_value'] = (amzn['open'] + amzn['high'] + amzn['low'] + amzn['close'])/4 * amzn['volume']\n",
        "print(amzn.head())"
      ],
      "metadata": {
        "colab": {
          "base_uri": "https://localhost:8080/"
        },
        "id": "U4E4-FtInb-N",
        "outputId": "f6d170d5-974b-4943-ee04-06ef4cec85bb"
      },
      "execution_count": null,
      "outputs": [
        {
          "output_type": "stream",
          "name": "stdout",
          "text": [
            "         date    open    high     low   close    volume  daily_change  \\\n",
            "0  1997-05-16  1.8650  1.9792  1.7083  1.7292  14700000        0.1358   \n",
            "1  1997-05-19  1.7083  1.7708  1.6250  1.7083   6106800        0.0000   \n",
            "2  1997-05-20  1.7292  1.7500  1.6358  1.6358   5467200        0.0934   \n",
            "3  1997-05-21  1.6042  1.6458  1.3750  1.4275  18853200        0.1767   \n",
            "4  1997-05-22  1.4375  1.4483  1.3125  1.3958  11776800        0.0417   \n",
            "\n",
            "   daily_value  \n",
            "0  26760247.50  \n",
            "1  10400491.08  \n",
            "2   9226993.44  \n",
            "3  28527248.25  \n",
            "4  16470149.22  \n"
          ]
        }
      ]
    },
    {
      "cell_type": "code",
      "execution_count": null,
      "metadata": {
        "colab": {
          "base_uri": "https://localhost:8080/"
        },
        "id": "6RWGh2SOTm_7",
        "outputId": "ee1972aa-5d17-4284-838f-58c6ee00e041"
      },
      "outputs": [
        {
          "name": "stdout",
          "output_type": "stream",
          "text": [
            "         date    open    high     low   close    volume  daily_value\n",
            "0  1997-05-16  1.8650  1.9792  1.7083  1.7292  14700000  26760247.50\n",
            "1  1997-05-19  1.7083  1.7708  1.6250  1.7083   6106800  10400491.08\n",
            "2  1997-05-20  1.7292  1.7500  1.6358  1.6358   5467200   9226993.44\n",
            "3  1997-05-21  1.6042  1.6458  1.3750  1.4275  18853200  28527248.25\n",
            "4  1997-05-22  1.4375  1.4483  1.3125  1.3958  11776800  16470149.22\n"
          ]
        }
      ],
      "source": [
        "amzn = amzn.drop(columns=['daily_change']) # Removes the 'daily_change' column we created earlier\n",
        "amzn['daily_value'] = ((amzn['open'] + amzn['high'] + amzn['low'] + amzn['close']) / 4) * amzn['volume']\n",
        "print(amzn.head())"
      ]
    },
    {
      "cell_type": "markdown",
      "metadata": {
        "id": "tMcXZWfqTm__"
      },
      "source": [
        "**Challenges**:\n",
        " - Calculate the difference between the `high` and `low` columns\n",
        " - Return the higher value between the `open` and `close` columns (hint: look into the `max` function)\n",
        " - Return the `close` price as a percentage of the original `close` price (useful when comparing the growth of different stocks)"
      ]
    },
    {
      "cell_type": "code",
      "source": [
        "# calculat the value between the open and close function\n",
        "print('High and low difference: ', amzn['high'] - amzn['low'] , sep='\\n', end='\\n\\n')\n",
        "\n",
        "# Note the we have to do the mamz across the two columns via axis=1 instead\n",
        "# of all rows\n",
        "print('Open close max:' , amzn[['open', 'close']].max(axis=1), sep='\\n', end='\\n\\n')\n",
        "\n",
        "close_growth = amzn['close'].iloc[-1] / amzn['close'].iloc[0]\n",
        "print('Close percentage growth:', f\"{close_growth * 100:.2f}%\")\n",
        "\n"
      ],
      "metadata": {
        "colab": {
          "base_uri": "https://localhost:8080/"
        },
        "id": "uLdNBevhoJi2",
        "outputId": "0aa88f11-d5f5-484a-8536-ca37310afa22"
      },
      "execution_count": null,
      "outputs": [
        {
          "output_type": "stream",
          "name": "stdout",
          "text": [
            "High and low difference: \n",
            "0         0.2709\n",
            "1         0.1458\n",
            "2         0.1142\n",
            "3         0.2708\n",
            "4         0.1358\n",
            "          ...   \n",
            "5802     42.6600\n",
            "5803    101.4300\n",
            "5804     96.0900\n",
            "5805    135.1500\n",
            "5806    118.1300\n",
            "Length: 5807, dtype: float64\n",
            "\n",
            "Open close max:\n",
            "0          1.8650\n",
            "1          1.7083\n",
            "2          1.7292\n",
            "3          1.6042\n",
            "4          1.4375\n",
            "          ...    \n",
            "5802    2524.0600\n",
            "5803    2600.8600\n",
            "5804    2647.4500\n",
            "5805    2603.5000\n",
            "5806    2601.2100\n",
            "Length: 5807, dtype: float64\n",
            "\n",
            "Close percentage growth: 147179.04%\n"
          ]
        }
      ]
    },
    {
      "cell_type": "code",
      "execution_count": null,
      "metadata": {
        "colab": {
          "base_uri": "https://localhost:8080/"
        },
        "id": "83p4hYs3Ualk",
        "outputId": "0db0ddb1-a6f3-4f22-fb0f-12361fefb985"
      },
      "outputs": [
        {
          "name": "stdout",
          "output_type": "stream",
          "text": [
            "High low difference:\n",
            "0         0.2709\n",
            "1         0.1458\n",
            "2         0.1142\n",
            "3         0.2708\n",
            "4         0.1358\n",
            "          ...   \n",
            "5802     42.6600\n",
            "5803    101.4300\n",
            "5804     96.0900\n",
            "5805    135.1500\n",
            "5806    118.1300\n",
            "Length: 5807, dtype: float64\n",
            "\n",
            "Open close max:\n",
            "0          1.8650\n",
            "1          1.7083\n",
            "2          1.7292\n",
            "3          1.6042\n",
            "4          1.4375\n",
            "          ...    \n",
            "5802    2524.0600\n",
            "5803    2600.8600\n",
            "5804    2647.4500\n",
            "5805    2603.5000\n",
            "5806    2601.2100\n",
            "Length: 5807, dtype: float64\n",
            "\n",
            "Close percentage growth: 147179.04%\n"
          ]
        }
      ],
      "source": [
        "print('High low difference:', amzn['high'] - amzn['low'], sep='\\n', end='\\n\\n')\n",
        "\n",
        "# Note that we have to do the max across the two columns via axis=1 instead of\n",
        "# across all rows\n",
        "print('Open close max:', amzn[['open', 'close']].max(axis=1), sep='\\n', end='\\n\\n')\n",
        "\n",
        "close_growth = amzn['close'].iloc[-1] / amzn['close'].iloc[0]\n",
        "print('Close percentage growth:', f\"{close_growth * 100:.2f}%\")"
      ]
    },
    {
      "cell_type": "code",
      "source": [
        "# Operations on a column - There is another way to carry out on a calulations\n",
        "# on a column or an entire datafram and it applies to each item. This\n",
        "# is conventient when the opereation we want to perform for each item is quite\n",
        "# complex. Below, we have a function `change_data` tha takes a date in the form\n",
        "# `YYYY-MM-DD` as a string and outputs it in the form  `Month Day, Year`\n",
        "\n",
        "\n",
        "def change_date(date):\n",
        "  \"convert the date from YYYY-MM-DD to Month Day, Year\"\n",
        "  year = date[0:4]\n",
        "  month = date[5:7]\n",
        "  months = [\"January\", \"February\", \"March\", \"April\", \"May\", \"June\", \"July\",\n",
        "              \"August\", \"September\", \"October\", \"November\", \"December\"]\n",
        "  month_english = months[int(month) - 1]\n",
        "  day = date[-2:]\n",
        "  return f'{month_english} {day}, {year}'\n",
        "\n",
        "\n",
        "print(\"1997-05-16\", \"May 5, 1997\")\n",
        "print(change_date(\"1997-05-16\"))\n",
        "\n",
        "\n",
        "# Because the operation is quite complex, we create a new function for it and\n",
        "# now we just need to apply `change_date` to our `date` column\n",
        "\n",
        "amzn['date'] = amzn['date'].apply(change_date)\n",
        "amzn.head()\n",
        "\n"
      ],
      "metadata": {
        "colab": {
          "base_uri": "https://localhost:8080/",
          "height": 241
        },
        "id": "Z2xC1B0fsByF",
        "outputId": "eec25831-3706-4a8b-e40d-6339aa10e2c6"
      },
      "execution_count": null,
      "outputs": [
        {
          "output_type": "stream",
          "name": "stdout",
          "text": [
            "1997-05-16 May 5, 1997\n",
            "May 16, 1997\n"
          ]
        },
        {
          "output_type": "execute_result",
          "data": {
            "text/plain": [
              "           date    open    high     low   close    volume  daily_change  \\\n",
              "0  May 16, 1997  1.8650  1.9792  1.7083  1.7292  14700000        0.1358   \n",
              "1  May 19, 1997  1.7083  1.7708  1.6250  1.7083   6106800        0.0000   \n",
              "2  May 20, 1997  1.7292  1.7500  1.6358  1.6358   5467200        0.0934   \n",
              "3  May 21, 1997  1.6042  1.6458  1.3750  1.4275  18853200        0.1767   \n",
              "4  May 22, 1997  1.4375  1.4483  1.3125  1.3958  11776800        0.0417   \n",
              "\n",
              "   daily_value  \n",
              "0  26760247.50  \n",
              "1  10400491.08  \n",
              "2   9226993.44  \n",
              "3  28527248.25  \n",
              "4  16470149.22  "
            ],
            "text/html": [
              "\n",
              "  <div id=\"df-9b149cd6-6b89-42b2-abac-771e01cc3d30\" class=\"colab-df-container\">\n",
              "    <div>\n",
              "<style scoped>\n",
              "    .dataframe tbody tr th:only-of-type {\n",
              "        vertical-align: middle;\n",
              "    }\n",
              "\n",
              "    .dataframe tbody tr th {\n",
              "        vertical-align: top;\n",
              "    }\n",
              "\n",
              "    .dataframe thead th {\n",
              "        text-align: right;\n",
              "    }\n",
              "</style>\n",
              "<table border=\"1\" class=\"dataframe\">\n",
              "  <thead>\n",
              "    <tr style=\"text-align: right;\">\n",
              "      <th></th>\n",
              "      <th>date</th>\n",
              "      <th>open</th>\n",
              "      <th>high</th>\n",
              "      <th>low</th>\n",
              "      <th>close</th>\n",
              "      <th>volume</th>\n",
              "      <th>daily_change</th>\n",
              "      <th>daily_value</th>\n",
              "    </tr>\n",
              "  </thead>\n",
              "  <tbody>\n",
              "    <tr>\n",
              "      <th>0</th>\n",
              "      <td>May 16, 1997</td>\n",
              "      <td>1.8650</td>\n",
              "      <td>1.9792</td>\n",
              "      <td>1.7083</td>\n",
              "      <td>1.7292</td>\n",
              "      <td>14700000</td>\n",
              "      <td>0.1358</td>\n",
              "      <td>26760247.50</td>\n",
              "    </tr>\n",
              "    <tr>\n",
              "      <th>1</th>\n",
              "      <td>May 19, 1997</td>\n",
              "      <td>1.7083</td>\n",
              "      <td>1.7708</td>\n",
              "      <td>1.6250</td>\n",
              "      <td>1.7083</td>\n",
              "      <td>6106800</td>\n",
              "      <td>0.0000</td>\n",
              "      <td>10400491.08</td>\n",
              "    </tr>\n",
              "    <tr>\n",
              "      <th>2</th>\n",
              "      <td>May 20, 1997</td>\n",
              "      <td>1.7292</td>\n",
              "      <td>1.7500</td>\n",
              "      <td>1.6358</td>\n",
              "      <td>1.6358</td>\n",
              "      <td>5467200</td>\n",
              "      <td>0.0934</td>\n",
              "      <td>9226993.44</td>\n",
              "    </tr>\n",
              "    <tr>\n",
              "      <th>3</th>\n",
              "      <td>May 21, 1997</td>\n",
              "      <td>1.6042</td>\n",
              "      <td>1.6458</td>\n",
              "      <td>1.3750</td>\n",
              "      <td>1.4275</td>\n",
              "      <td>18853200</td>\n",
              "      <td>0.1767</td>\n",
              "      <td>28527248.25</td>\n",
              "    </tr>\n",
              "    <tr>\n",
              "      <th>4</th>\n",
              "      <td>May 22, 1997</td>\n",
              "      <td>1.4375</td>\n",
              "      <td>1.4483</td>\n",
              "      <td>1.3125</td>\n",
              "      <td>1.3958</td>\n",
              "      <td>11776800</td>\n",
              "      <td>0.0417</td>\n",
              "      <td>16470149.22</td>\n",
              "    </tr>\n",
              "  </tbody>\n",
              "</table>\n",
              "</div>\n",
              "    <div class=\"colab-df-buttons\">\n",
              "\n",
              "  <div class=\"colab-df-container\">\n",
              "    <button class=\"colab-df-convert\" onclick=\"convertToInteractive('df-9b149cd6-6b89-42b2-abac-771e01cc3d30')\"\n",
              "            title=\"Convert this dataframe to an interactive table.\"\n",
              "            style=\"display:none;\">\n",
              "\n",
              "  <svg xmlns=\"http://www.w3.org/2000/svg\" height=\"24px\" viewBox=\"0 -960 960 960\">\n",
              "    <path d=\"M120-120v-720h720v720H120Zm60-500h600v-160H180v160Zm220 220h160v-160H400v160Zm0 220h160v-160H400v160ZM180-400h160v-160H180v160Zm440 0h160v-160H620v160ZM180-180h160v-160H180v160Zm440 0h160v-160H620v160Z\"/>\n",
              "  </svg>\n",
              "    </button>\n",
              "\n",
              "  <style>\n",
              "    .colab-df-container {\n",
              "      display:flex;\n",
              "      gap: 12px;\n",
              "    }\n",
              "\n",
              "    .colab-df-convert {\n",
              "      background-color: #E8F0FE;\n",
              "      border: none;\n",
              "      border-radius: 50%;\n",
              "      cursor: pointer;\n",
              "      display: none;\n",
              "      fill: #1967D2;\n",
              "      height: 32px;\n",
              "      padding: 0 0 0 0;\n",
              "      width: 32px;\n",
              "    }\n",
              "\n",
              "    .colab-df-convert:hover {\n",
              "      background-color: #E2EBFA;\n",
              "      box-shadow: 0px 1px 2px rgba(60, 64, 67, 0.3), 0px 1px 3px 1px rgba(60, 64, 67, 0.15);\n",
              "      fill: #174EA6;\n",
              "    }\n",
              "\n",
              "    .colab-df-buttons div {\n",
              "      margin-bottom: 4px;\n",
              "    }\n",
              "\n",
              "    [theme=dark] .colab-df-convert {\n",
              "      background-color: #3B4455;\n",
              "      fill: #D2E3FC;\n",
              "    }\n",
              "\n",
              "    [theme=dark] .colab-df-convert:hover {\n",
              "      background-color: #434B5C;\n",
              "      box-shadow: 0px 1px 3px 1px rgba(0, 0, 0, 0.15);\n",
              "      filter: drop-shadow(0px 1px 2px rgba(0, 0, 0, 0.3));\n",
              "      fill: #FFFFFF;\n",
              "    }\n",
              "  </style>\n",
              "\n",
              "    <script>\n",
              "      const buttonEl =\n",
              "        document.querySelector('#df-9b149cd6-6b89-42b2-abac-771e01cc3d30 button.colab-df-convert');\n",
              "      buttonEl.style.display =\n",
              "        google.colab.kernel.accessAllowed ? 'block' : 'none';\n",
              "\n",
              "      async function convertToInteractive(key) {\n",
              "        const element = document.querySelector('#df-9b149cd6-6b89-42b2-abac-771e01cc3d30');\n",
              "        const dataTable =\n",
              "          await google.colab.kernel.invokeFunction('convertToInteractive',\n",
              "                                                    [key], {});\n",
              "        if (!dataTable) return;\n",
              "\n",
              "        const docLinkHtml = 'Like what you see? Visit the ' +\n",
              "          '<a target=\"_blank\" href=https://colab.research.google.com/notebooks/data_table.ipynb>data table notebook</a>'\n",
              "          + ' to learn more about interactive tables.';\n",
              "        element.innerHTML = '';\n",
              "        dataTable['output_type'] = 'display_data';\n",
              "        await google.colab.output.renderOutput(dataTable, element);\n",
              "        const docLink = document.createElement('div');\n",
              "        docLink.innerHTML = docLinkHtml;\n",
              "        element.appendChild(docLink);\n",
              "      }\n",
              "    </script>\n",
              "  </div>\n",
              "\n",
              "\n",
              "<div id=\"df-8173ced3-290b-41af-9f69-ab74b30de908\">\n",
              "  <button class=\"colab-df-quickchart\" onclick=\"quickchart('df-8173ced3-290b-41af-9f69-ab74b30de908')\"\n",
              "            title=\"Suggest charts\"\n",
              "            style=\"display:none;\">\n",
              "\n",
              "<svg xmlns=\"http://www.w3.org/2000/svg\" height=\"24px\"viewBox=\"0 0 24 24\"\n",
              "     width=\"24px\">\n",
              "    <g>\n",
              "        <path d=\"M19 3H5c-1.1 0-2 .9-2 2v14c0 1.1.9 2 2 2h14c1.1 0 2-.9 2-2V5c0-1.1-.9-2-2-2zM9 17H7v-7h2v7zm4 0h-2V7h2v10zm4 0h-2v-4h2v4z\"/>\n",
              "    </g>\n",
              "</svg>\n",
              "  </button>\n",
              "\n",
              "<style>\n",
              "  .colab-df-quickchart {\n",
              "      --bg-color: #E8F0FE;\n",
              "      --fill-color: #1967D2;\n",
              "      --hover-bg-color: #E2EBFA;\n",
              "      --hover-fill-color: #174EA6;\n",
              "      --disabled-fill-color: #AAA;\n",
              "      --disabled-bg-color: #DDD;\n",
              "  }\n",
              "\n",
              "  [theme=dark] .colab-df-quickchart {\n",
              "      --bg-color: #3B4455;\n",
              "      --fill-color: #D2E3FC;\n",
              "      --hover-bg-color: #434B5C;\n",
              "      --hover-fill-color: #FFFFFF;\n",
              "      --disabled-bg-color: #3B4455;\n",
              "      --disabled-fill-color: #666;\n",
              "  }\n",
              "\n",
              "  .colab-df-quickchart {\n",
              "    background-color: var(--bg-color);\n",
              "    border: none;\n",
              "    border-radius: 50%;\n",
              "    cursor: pointer;\n",
              "    display: none;\n",
              "    fill: var(--fill-color);\n",
              "    height: 32px;\n",
              "    padding: 0;\n",
              "    width: 32px;\n",
              "  }\n",
              "\n",
              "  .colab-df-quickchart:hover {\n",
              "    background-color: var(--hover-bg-color);\n",
              "    box-shadow: 0 1px 2px rgba(60, 64, 67, 0.3), 0 1px 3px 1px rgba(60, 64, 67, 0.15);\n",
              "    fill: var(--button-hover-fill-color);\n",
              "  }\n",
              "\n",
              "  .colab-df-quickchart-complete:disabled,\n",
              "  .colab-df-quickchart-complete:disabled:hover {\n",
              "    background-color: var(--disabled-bg-color);\n",
              "    fill: var(--disabled-fill-color);\n",
              "    box-shadow: none;\n",
              "  }\n",
              "\n",
              "  .colab-df-spinner {\n",
              "    border: 2px solid var(--fill-color);\n",
              "    border-color: transparent;\n",
              "    border-bottom-color: var(--fill-color);\n",
              "    animation:\n",
              "      spin 1s steps(1) infinite;\n",
              "  }\n",
              "\n",
              "  @keyframes spin {\n",
              "    0% {\n",
              "      border-color: transparent;\n",
              "      border-bottom-color: var(--fill-color);\n",
              "      border-left-color: var(--fill-color);\n",
              "    }\n",
              "    20% {\n",
              "      border-color: transparent;\n",
              "      border-left-color: var(--fill-color);\n",
              "      border-top-color: var(--fill-color);\n",
              "    }\n",
              "    30% {\n",
              "      border-color: transparent;\n",
              "      border-left-color: var(--fill-color);\n",
              "      border-top-color: var(--fill-color);\n",
              "      border-right-color: var(--fill-color);\n",
              "    }\n",
              "    40% {\n",
              "      border-color: transparent;\n",
              "      border-right-color: var(--fill-color);\n",
              "      border-top-color: var(--fill-color);\n",
              "    }\n",
              "    60% {\n",
              "      border-color: transparent;\n",
              "      border-right-color: var(--fill-color);\n",
              "    }\n",
              "    80% {\n",
              "      border-color: transparent;\n",
              "      border-right-color: var(--fill-color);\n",
              "      border-bottom-color: var(--fill-color);\n",
              "    }\n",
              "    90% {\n",
              "      border-color: transparent;\n",
              "      border-bottom-color: var(--fill-color);\n",
              "    }\n",
              "  }\n",
              "</style>\n",
              "\n",
              "  <script>\n",
              "    async function quickchart(key) {\n",
              "      const quickchartButtonEl =\n",
              "        document.querySelector('#' + key + ' button');\n",
              "      quickchartButtonEl.disabled = true;  // To prevent multiple clicks.\n",
              "      quickchartButtonEl.classList.add('colab-df-spinner');\n",
              "      try {\n",
              "        const charts = await google.colab.kernel.invokeFunction(\n",
              "            'suggestCharts', [key], {});\n",
              "      } catch (error) {\n",
              "        console.error('Error during call to suggestCharts:', error);\n",
              "      }\n",
              "      quickchartButtonEl.classList.remove('colab-df-spinner');\n",
              "      quickchartButtonEl.classList.add('colab-df-quickchart-complete');\n",
              "    }\n",
              "    (() => {\n",
              "      let quickchartButtonEl =\n",
              "        document.querySelector('#df-8173ced3-290b-41af-9f69-ab74b30de908 button');\n",
              "      quickchartButtonEl.style.display =\n",
              "        google.colab.kernel.accessAllowed ? 'block' : 'none';\n",
              "    })();\n",
              "  </script>\n",
              "</div>\n",
              "\n",
              "    </div>\n",
              "  </div>\n"
            ],
            "application/vnd.google.colaboratory.intrinsic+json": {
              "type": "dataframe",
              "variable_name": "amzn",
              "summary": "{\n  \"name\": \"amzn\",\n  \"rows\": 5807,\n  \"fields\": [\n    {\n      \"column\": \"date\",\n      \"properties\": {\n        \"dtype\": \"object\",\n        \"num_unique_values\": 5807,\n        \"samples\": [\n          \"May 13, 1999\",\n          \"December 10, 2009\",\n          \"February 04, 2013\"\n        ],\n        \"semantic_type\": \"\",\n        \"description\": \"\"\n      }\n    },\n    {\n      \"column\": \"open\",\n      \"properties\": {\n        \"dtype\": \"number\",\n        \"std\": 553.5136332860725,\n        \"min\": 1.4067,\n        \"max\": 2645.0,\n        \"num_unique_values\": 5067,\n        \"samples\": [\n          1971.14,\n          9.21,\n          258.58\n        ],\n        \"semantic_type\": \"\",\n        \"description\": \"\"\n      }\n    },\n    {\n      \"column\": \"high\",\n      \"properties\": {\n        \"dtype\": \"number\",\n        \"std\": 559.0102896140672,\n        \"min\": 1.4483,\n        \"max\": 2722.35,\n        \"num_unique_values\": 5029,\n        \"samples\": [\n          132.694,\n          218.23,\n          6.17\n        ],\n        \"semantic_type\": \"\",\n        \"description\": \"\"\n      }\n    },\n    {\n      \"column\": \"low\",\n      \"properties\": {\n        \"dtype\": \"number\",\n        \"std\": 547.4794186998336,\n        \"min\": 1.3125,\n        \"max\": 2626.26,\n        \"num_unique_values\": 5024,\n        \"samples\": [\n          38.55,\n          81.56,\n          2382.0\n        ],\n        \"semantic_type\": \"\",\n        \"description\": \"\"\n      }\n    },\n    {\n      \"column\": \"close\",\n      \"properties\": {\n        \"dtype\": \"number\",\n        \"std\": 553.5385593377746,\n        \"min\": 1.3958,\n        \"max\": 2647.45,\n        \"num_unique_values\": 5132,\n        \"samples\": [\n          2367.61,\n          77.37,\n          128.53\n        ],\n        \"semantic_type\": \"\",\n        \"description\": \"\"\n      }\n    },\n    {\n      \"column\": \"volume\",\n      \"properties\": {\n        \"dtype\": \"number\",\n        \"std\": 7216608,\n        \"min\": 487200,\n        \"max\": 104329200,\n        \"num_unique_values\": 5721,\n        \"samples\": [\n          10211100,\n          29529800,\n          1985949\n        ],\n        \"semantic_type\": \"\",\n        \"description\": \"\"\n      }\n    },\n    {\n      \"column\": \"daily_change\",\n      \"properties\": {\n        \"dtype\": \"number\",\n        \"std\": 10.189658290162678,\n        \"min\": -128.8699999999999,\n        \"max\": 121.11999999999989,\n        \"num_unique_values\": 3500,\n        \"samples\": [\n          -12.945000000000007,\n          -2.2799999999999727,\n          2.160000000000025\n        ],\n        \"semantic_type\": \"\",\n        \"description\": \"\"\n      }\n    },\n    {\n      \"column\": \"daily_value\",\n      \"properties\": {\n        \"dtype\": \"number\",\n        \"std\": 2885840780.30383,\n        \"min\": 895283.0700000001,\n        \"max\": 31594501376.234997,\n        \"num_unique_values\": 5807,\n        \"samples\": [\n          811110712.4999999,\n          1521120042.0,\n          974199882.5999999\n        ],\n        \"semantic_type\": \"\",\n        \"description\": \"\"\n      }\n    }\n  ]\n}"
            }
          },
          "metadata": {},
          "execution_count": 26
        }
      ]
    },
    {
      "cell_type": "markdown",
      "metadata": {
        "id": "MfH6HNsbTnAA"
      },
      "source": [
        "### Operations on a Column\n",
        "\n",
        "There is another way to carry out calculations on a column, but it can easily be used for other operations too. The `apply` function takes a column or entire DataFrame and applies a function to each item. This is convenient when the operation we want to perform for each item is quite complex. Below, we have a function `change_date` that takes a date in the form `YYYY-MM-DD` as a string, and outputs it in the form `Month Day, Year`."
      ]
    },
    {
      "cell_type": "code",
      "execution_count": null,
      "metadata": {
        "colab": {
          "base_uri": "https://localhost:8080/"
        },
        "id": "NbAeV3J5TnAD",
        "outputId": "e463dbd8-d754-40e8-c050-d92f38198cdd"
      },
      "outputs": [
        {
          "output_type": "stream",
          "name": "stdout",
          "text": [
            "May 16, 1997\n"
          ]
        }
      ],
      "source": [
        "def change_date(original_date):\n",
        "    year = original_date[0:4]    # Get the first four characters in the string\n",
        "    month = original_date[5:7]   # Get the month from the string\n",
        "    months = [\"January\", \"February\", \"March\", \"April\", \"May\", \"June\", \"July\",\n",
        "              \"August\", \"September\", \"October\", \"November\", \"December\"]\n",
        "    month_name = months[int(month) - 1] # e.g. int('01') - 1 == 0 giving January\n",
        "    day = original_date[-2:]    # Get the last two characters in the string\n",
        "\n",
        "    return month_name + \" \" + day + \", \" + year\n",
        "\n",
        "print(change_date(amzn['date'][0]))"
      ]
    },
    {
      "cell_type": "markdown",
      "metadata": {
        "id": "Tbp2dY6ETnAN"
      },
      "source": [
        "Because this operation is quite complex, we created a new function for it, and now just need to `apply` `change_date` to our `date` column."
      ]
    },
    {
      "cell_type": "code",
      "source": [],
      "metadata": {
        "id": "A5Ogj69gvjFA"
      },
      "execution_count": null,
      "outputs": []
    },
    {
      "cell_type": "code",
      "execution_count": null,
      "metadata": {
        "colab": {
          "base_uri": "https://localhost:8080/"
        },
        "id": "QnhphSGMTnAT",
        "outputId": "f1817045-b542-456a-a72b-8421c0be0708"
      },
      "outputs": [
        {
          "name": "stdout",
          "output_type": "stream",
          "text": [
            "           date    open    high     low   close    volume  daily_value\n",
            "0  May 16, 1997  1.8650  1.9792  1.7083  1.7292  14700000  26760247.50\n",
            "1  May 19, 1997  1.7083  1.7708  1.6250  1.7083   6106800  10400491.08\n",
            "2  May 20, 1997  1.7292  1.7500  1.6358  1.6358   5467200   9226993.44\n",
            "3  May 21, 1997  1.6042  1.6458  1.3750  1.4275  18853200  28527248.25\n",
            "4  May 22, 1997  1.4375  1.4483  1.3125  1.3958  11776800  16470149.22\n"
          ]
        }
      ],
      "source": [
        "amzn['date'] = amzn['date'].apply(change_date)\n",
        "print(amzn.head())"
      ]
    },
    {
      "cell_type": "code",
      "source": [
        "# apply function takes a column or the entire dataframe and applies a function to\n",
        "# each column\n",
        "\n",
        "def volume_estimate(volume):\n",
        "  return 'high' if volume > 1000000 else 'low'\n",
        "\n",
        "amzn['volume_estimate'] = amzn['volume'].apply(estimate_volume)\n",
        "print(amzn)\n",
        "\n"
      ],
      "metadata": {
        "colab": {
          "base_uri": "https://localhost:8080/"
        },
        "collapsed": true,
        "id": "UYKme-pYyKTO",
        "outputId": "d188dccc-0342-4827-9ae7-e12ebcff59ed"
      },
      "execution_count": null,
      "outputs": [
        {
          "output_type": "stream",
          "name": "stdout",
          "text": [
            "               date       open       high        low      close    volume  \\\n",
            "0      May 16, 1997     1.8650     1.9792     1.7083     1.7292  14700000   \n",
            "1      May 19, 1997     1.7083     1.7708     1.6250     1.7083   6106800   \n",
            "2      May 20, 1997     1.7292     1.7500     1.6358     1.6358   5467200   \n",
            "3      May 21, 1997     1.6042     1.6458     1.3750     1.4275  18853200   \n",
            "4      May 22, 1997     1.4375     1.4483     1.3125     1.3958  11776800   \n",
            "...             ...        ...        ...        ...        ...       ...   \n",
            "5802  June 08, 2020  2500.2000  2530.0000  2487.3400  2524.0600   3957871   \n",
            "5803  June 09, 2020  2529.4400  2626.4300  2525.0000  2600.8600   5175950   \n",
            "5804  June 10, 2020  2645.0000  2722.3500  2626.2600  2647.4500   4913985   \n",
            "5805  June 11, 2020  2603.5000  2671.3800  2536.2300  2557.9600   5753417   \n",
            "5806  June 12, 2020  2601.2100  2621.4800  2503.3500  2545.0200   5436127   \n",
            "\n",
            "      daily_change   daily_value volume_estimate  \n",
            "0           0.1358  2.676025e+07            high  \n",
            "1           0.0000  1.040049e+07             low  \n",
            "2           0.0934  9.226993e+06             low  \n",
            "3           0.1767  2.852725e+07            high  \n",
            "4           0.0417  1.647015e+07            high  \n",
            "...            ...           ...             ...  \n",
            "5802      -23.8600  9.935839e+09             low  \n",
            "5803      -71.4200  1.330443e+10             low  \n",
            "5804       -2.4500  1.307250e+10             low  \n",
            "5805       45.5400  1.491440e+10             low  \n",
            "5806       56.1900  1.395870e+10             low  \n",
            "\n",
            "[5807 rows x 9 columns]\n"
          ]
        }
      ]
    },
    {
      "cell_type": "markdown",
      "metadata": {
        "id": "TdZQa66CTnAb"
      },
      "source": [
        "Ultimately, `apply` allows us to carry out more complex operations on a column, and *abstract* their functionality into helper functions.\n",
        "\n",
        "**Challenge:** create a new `volume_estimate` column by apply a function to the `volume` column which replaces values greater than 10000000 with `'high'` and everything else with `'low'`."
      ]
    },
    {
      "cell_type": "code",
      "execution_count": null,
      "metadata": {
        "colab": {
          "base_uri": "https://localhost:8080/"
        },
        "id": "0sJ9QN_2dDWI",
        "outputId": "5cafa905-4b88-49a2-a7d4-aefef85e93e2"
      },
      "outputs": [
        {
          "output_type": "stream",
          "name": "stdout",
          "text": [
            "               date       open       high        low      close    volume  \\\n",
            "0      May 16, 1997     1.8650     1.9792     1.7083     1.7292  14700000   \n",
            "1      May 19, 1997     1.7083     1.7708     1.6250     1.7083   6106800   \n",
            "2      May 20, 1997     1.7292     1.7500     1.6358     1.6358   5467200   \n",
            "3      May 21, 1997     1.6042     1.6458     1.3750     1.4275  18853200   \n",
            "4      May 22, 1997     1.4375     1.4483     1.3125     1.3958  11776800   \n",
            "...             ...        ...        ...        ...        ...       ...   \n",
            "5802  June 08, 2020  2500.2000  2530.0000  2487.3400  2524.0600   3957871   \n",
            "5803  June 09, 2020  2529.4400  2626.4300  2525.0000  2600.8600   5175950   \n",
            "5804  June 10, 2020  2645.0000  2722.3500  2626.2600  2647.4500   4913985   \n",
            "5805  June 11, 2020  2603.5000  2671.3800  2536.2300  2557.9600   5753417   \n",
            "5806  June 12, 2020  2601.2100  2621.4800  2503.3500  2545.0200   5436127   \n",
            "\n",
            "      daily_change   daily_value volume_estimate  \n",
            "0           0.1358  2.676025e+07            high  \n",
            "1           0.0000  1.040049e+07             low  \n",
            "2           0.0934  9.226993e+06             low  \n",
            "3           0.1767  2.852725e+07            high  \n",
            "4           0.0417  1.647015e+07            high  \n",
            "...            ...           ...             ...  \n",
            "5802      -23.8600  9.935839e+09             low  \n",
            "5803      -71.4200  1.330443e+10             low  \n",
            "5804       -2.4500  1.307250e+10             low  \n",
            "5805       45.5400  1.491440e+10             low  \n",
            "5806       56.1900  1.395870e+10             low  \n",
            "\n",
            "[5807 rows x 9 columns]\n"
          ]
        }
      ],
      "source": [
        "def estimate_volume(volume):\n",
        "  return 'high' if volume > 10000000 else 'low'\n",
        "\n",
        "amzn['volume_estimate'] = amzn['volume'].apply(estimate_volume)\n",
        "print(amz"
      ]
    },
    {
      "cell_type": "markdown",
      "metadata": {
        "id": "KFuMvB5CTnAd"
      },
      "source": [
        "## 3B: Summary Statistics"
      ]
    },
    {
      "cell_type": "markdown",
      "metadata": {
        "id": "5xifxUKhTnAf"
      },
      "source": [
        "Previously, we carried out operations to fill each row in a new or existing column with a calculated value. Now we turn our attention to *summary statistics*. These aggregate calculations accross multiple rows within the same column. There are many different types of summary statistics, but common ones are:\n",
        " - `size`: Counts the number of rows in the given column\n",
        " - `count`: Counts the number of rows, excluding NaNs, in the given column\n",
        " - `sum`: Calculates the sum of the values in the given column\n",
        " - `min` and `max`: Calculates the minimum or maximum value in the given column\n",
        " - `mean`, `median`, and `mode`: Calculates the average value in the given column\n",
        " - `std`: Calculates the standard deviation in the given column\n",
        " - `describe`: Many statistics at once\n",
        "\n",
        " Lets look at a few examples:"
      ]
    },
    {
      "cell_type": "code",
      "source": [
        "# get the mean (average)\n",
        "amzn['close'].mean()"
      ],
      "metadata": {
        "colab": {
          "base_uri": "https://localhost:8080/"
        },
        "id": "_MzQWY1P1Hm4",
        "outputId": "13a19174-faa6-4023-ed3e-b62822974351"
      },
      "execution_count": null,
      "outputs": [
        {
          "output_type": "execute_result",
          "data": {
            "text/plain": [
              "357.8692016015154"
            ]
          },
          "metadata": {},
          "execution_count": 34
        }
      ]
    },
    {
      "cell_type": "code",
      "source": [
        "#get the min\n",
        "amzn['close'].min()"
      ],
      "metadata": {
        "colab": {
          "base_uri": "https://localhost:8080/"
        },
        "id": "10-lpM2q1iJa",
        "outputId": "2820f6de-07b1-46e3-b2bd-e9fe8af1a91a"
      },
      "execution_count": null,
      "outputs": [
        {
          "output_type": "execute_result",
          "data": {
            "text/plain": [
              "1.3958"
            ]
          },
          "metadata": {},
          "execution_count": 35
        }
      ]
    },
    {
      "cell_type": "code",
      "source": [
        "# standard deviation\n",
        "amzn['close'].std()"
      ],
      "metadata": {
        "colab": {
          "base_uri": "https://localhost:8080/"
        },
        "id": "nhzwGB4q2Xih",
        "outputId": "495525cf-6116-4576-e36f-bb3e8932b5b4"
      },
      "execution_count": null,
      "outputs": [
        {
          "output_type": "execute_result",
          "data": {
            "text/plain": [
              "553.5385593377746"
            ]
          },
          "metadata": {},
          "execution_count": 38
        }
      ]
    },
    {
      "cell_type": "code",
      "source": [
        "# get the median value across all rows\n",
        "amzn[['high', 'low']].median()"
      ],
      "metadata": {
        "colab": {
          "base_uri": "https://localhost:8080/",
          "height": 147
        },
        "id": "2Hf9rotC1vOe",
        "outputId": "bd01b4f1-669d-47f1-9570-c6a1e3409ac8"
      },
      "execution_count": null,
      "outputs": [
        {
          "output_type": "execute_result",
          "data": {
            "text/plain": [
              "high    84.47\n",
              "low     81.00\n",
              "dtype: float64"
            ],
            "text/html": [
              "<div>\n",
              "<style scoped>\n",
              "    .dataframe tbody tr th:only-of-type {\n",
              "        vertical-align: middle;\n",
              "    }\n",
              "\n",
              "    .dataframe tbody tr th {\n",
              "        vertical-align: top;\n",
              "    }\n",
              "\n",
              "    .dataframe thead th {\n",
              "        text-align: right;\n",
              "    }\n",
              "</style>\n",
              "<table border=\"1\" class=\"dataframe\">\n",
              "  <thead>\n",
              "    <tr style=\"text-align: right;\">\n",
              "      <th></th>\n",
              "      <th>0</th>\n",
              "    </tr>\n",
              "  </thead>\n",
              "  <tbody>\n",
              "    <tr>\n",
              "      <th>high</th>\n",
              "      <td>84.47</td>\n",
              "    </tr>\n",
              "    <tr>\n",
              "      <th>low</th>\n",
              "      <td>81.00</td>\n",
              "    </tr>\n",
              "  </tbody>\n",
              "</table>\n",
              "</div><br><label><b>dtype:</b> float64</label>"
            ]
          },
          "metadata": {},
          "execution_count": 36
        }
      ]
    },
    {
      "cell_type": "code",
      "source": [
        "# describe\n",
        "amzn['close'].describe()\n"
      ],
      "metadata": {
        "colab": {
          "base_uri": "https://localhost:8080/",
          "height": 335
        },
        "id": "HPVQz3U22EMO",
        "outputId": "7e5ee8bb-d93a-4db9-964f-6fbfeeb25519"
      },
      "execution_count": null,
      "outputs": [
        {
          "output_type": "execute_result",
          "data": {
            "text/plain": [
              "count    5807.000000\n",
              "mean      357.869202\n",
              "std       553.538559\n",
              "min         1.395800\n",
              "25%        37.835000\n",
              "50%        82.700000\n",
              "75%       352.152000\n",
              "max      2647.450000\n",
              "Name: close, dtype: float64"
            ],
            "text/html": [
              "<div>\n",
              "<style scoped>\n",
              "    .dataframe tbody tr th:only-of-type {\n",
              "        vertical-align: middle;\n",
              "    }\n",
              "\n",
              "    .dataframe tbody tr th {\n",
              "        vertical-align: top;\n",
              "    }\n",
              "\n",
              "    .dataframe thead th {\n",
              "        text-align: right;\n",
              "    }\n",
              "</style>\n",
              "<table border=\"1\" class=\"dataframe\">\n",
              "  <thead>\n",
              "    <tr style=\"text-align: right;\">\n",
              "      <th></th>\n",
              "      <th>close</th>\n",
              "    </tr>\n",
              "  </thead>\n",
              "  <tbody>\n",
              "    <tr>\n",
              "      <th>count</th>\n",
              "      <td>5807.000000</td>\n",
              "    </tr>\n",
              "    <tr>\n",
              "      <th>mean</th>\n",
              "      <td>357.869202</td>\n",
              "    </tr>\n",
              "    <tr>\n",
              "      <th>std</th>\n",
              "      <td>553.538559</td>\n",
              "    </tr>\n",
              "    <tr>\n",
              "      <th>min</th>\n",
              "      <td>1.395800</td>\n",
              "    </tr>\n",
              "    <tr>\n",
              "      <th>25%</th>\n",
              "      <td>37.835000</td>\n",
              "    </tr>\n",
              "    <tr>\n",
              "      <th>50%</th>\n",
              "      <td>82.700000</td>\n",
              "    </tr>\n",
              "    <tr>\n",
              "      <th>75%</th>\n",
              "      <td>352.152000</td>\n",
              "    </tr>\n",
              "    <tr>\n",
              "      <th>max</th>\n",
              "      <td>2647.450000</td>\n",
              "    </tr>\n",
              "  </tbody>\n",
              "</table>\n",
              "</div><br><label><b>dtype:</b> float64</label>"
            ]
          },
          "metadata": {},
          "execution_count": 37
        }
      ]
    },
    {
      "cell_type": "code",
      "source": [
        "# info -- good for checking if there any missing values\n",
        "amzn.info()\n"
      ],
      "metadata": {
        "colab": {
          "base_uri": "https://localhost:8080/"
        },
        "id": "MkB9_Odi3GqG",
        "outputId": "6e97eb21-cfdb-49c1-c26e-1bd5a4cfef77"
      },
      "execution_count": null,
      "outputs": [
        {
          "output_type": "stream",
          "name": "stdout",
          "text": [
            "<class 'pandas.core.frame.DataFrame'>\n",
            "RangeIndex: 5807 entries, 0 to 5806\n",
            "Data columns (total 9 columns):\n",
            " #   Column           Non-Null Count  Dtype  \n",
            "---  ------           --------------  -----  \n",
            " 0   date             5807 non-null   object \n",
            " 1   open             5807 non-null   float64\n",
            " 2   high             5807 non-null   float64\n",
            " 3   low              5807 non-null   float64\n",
            " 4   close            5807 non-null   float64\n",
            " 5   volume           5807 non-null   int64  \n",
            " 6   daily_change     5807 non-null   float64\n",
            " 7   daily_value      5807 non-null   float64\n",
            " 8   volume_estimate  5807 non-null   object \n",
            "dtypes: float64(6), int64(1), object(2)\n",
            "memory usage: 408.4+ KB\n"
          ]
        }
      ]
    },
    {
      "cell_type": "markdown",
      "source": [],
      "metadata": {
        "id": "HmgUNG3u2YiT"
      }
    },
    {
      "cell_type": "markdown",
      "metadata": {
        "id": "LLLMW9oETnAi"
      },
      "source": [
        "Get the mean close price in the `amzn` DataFrame."
      ]
    },
    {
      "cell_type": "code",
      "execution_count": null,
      "metadata": {
        "colab": {
          "base_uri": "https://localhost:8080/"
        },
        "id": "GnV8htrQTnAk",
        "outputId": "2e8a1daf-b2ac-40a9-e4b8-44fc6793148c"
      },
      "outputs": [
        {
          "name": "stdout",
          "output_type": "stream",
          "text": [
            "Mean Close Price: 357.8692016015154\n"
          ]
        }
      ],
      "source": [
        "amzn = pd.read_csv('AMZN.csv')\n",
        "mean_close = amzn['close'].mean()\n",
        "print(\"Mean Close Price: \" + str(mean_close))"
      ]
    },
    {
      "cell_type": "markdown",
      "metadata": {
        "id": "n4Ka84iVTnAr"
      },
      "source": [
        "Find the highest and lowest close price."
      ]
    },
    {
      "cell_type": "code",
      "execution_count": null,
      "metadata": {
        "colab": {
          "base_uri": "https://localhost:8080/"
        },
        "id": "bg0oFlhWTnAr",
        "outputId": "d19896bd-9717-47e2-c3d3-be1c4db41667"
      },
      "outputs": [
        {
          "name": "stdout",
          "output_type": "stream",
          "text": [
            "Highest Close Price: 2647.45\n",
            "Lowest Close Price: 1.3958\n"
          ]
        }
      ],
      "source": [
        "highest_close = amzn['close'].max()\n",
        "print(\"Highest Close Price: \" + str(highest_close))\n",
        "\n",
        "lowest_close = amzn['close'].min()\n",
        "print(\"Lowest Close Price: \" + str(lowest_close))"
      ]
    },
    {
      "cell_type": "markdown",
      "metadata": {
        "id": "DJPtaw76TnAv"
      },
      "source": [
        "Find the median value for both the `high` and `low` column. We can calculate summary statistics on more than one column by passing a list of columns."
      ]
    },
    {
      "cell_type": "code",
      "execution_count": null,
      "metadata": {
        "colab": {
          "base_uri": "https://localhost:8080/"
        },
        "id": "oGrfE1JETnAx",
        "outputId": "2ef8fb41-e368-4ec1-986d-ae3b6831ee55"
      },
      "outputs": [
        {
          "name": "stdout",
          "output_type": "stream",
          "text": [
            "high    84.47\n",
            "low     81.00\n",
            "dtype: float64\n"
          ]
        }
      ],
      "source": [
        "median_value = amzn[['high', 'low']].median()\n",
        "print(median_value)"
      ]
    },
    {
      "cell_type": "markdown",
      "metadata": {
        "id": "Zk5DvlBuTnA1"
      },
      "source": [
        "Describe the close prices."
      ]
    },
    {
      "cell_type": "code",
      "execution_count": null,
      "metadata": {
        "colab": {
          "base_uri": "https://localhost:8080/"
        },
        "id": "LzJmZuDHTnA1",
        "outputId": "243b5092-ba71-49a2-8533-6f2974a984a6"
      },
      "outputs": [
        {
          "name": "stdout",
          "output_type": "stream",
          "text": [
            "count    5807.000000\n",
            "mean      357.869202\n",
            "std       553.538559\n",
            "min         1.395800\n",
            "25%        37.835000\n",
            "50%        82.700000\n",
            "75%       352.152000\n",
            "max      2647.450000\n",
            "Name: close, dtype: float64\n"
          ]
        }
      ],
      "source": [
        "described = amzn['close'].describe()\n",
        "print(described)"
      ]
    },
    {
      "cell_type": "code",
      "execution_count": null,
      "metadata": {
        "colab": {
          "base_uri": "https://localhost:8080/"
        },
        "id": "OegVlCLxdyy6",
        "outputId": "c25a35da-4098-4eef-c169-d89e1b8a75c3"
      },
      "outputs": [
        {
          "output_type": "execute_result",
          "data": {
            "text/plain": [
              "170.74"
            ]
          },
          "metadata": {},
          "execution_count": 41
        }
      ],
      "source": [
        "(amzn['high'] - amzn['low']).max()"
      ]
    },
    {
      "cell_type": "code",
      "source": [
        "stock_names = [\"MSFT\", 'AAPL', 'AMZN', 'GOOG']\n",
        "\n",
        "df = pd.DataFrame()\n",
        "for stock_name in stock_names:\n",
        "  stock_df = pd.read_csv(f'{stock_name}.csv')\n",
        "  stock_df['name'] = stock_name\n",
        "  df = pd.concat([df, stock_df], ignore_index= True)\n",
        "  print(df)\n"
      ],
      "metadata": {
        "colab": {
          "base_uri": "https://localhost:8080/"
        },
        "id": "lCImqO9l344m",
        "outputId": "875b9488-583d-4b9e-9a80-30b40369e47a"
      },
      "execution_count": null,
      "outputs": [
        {
          "output_type": "stream",
          "name": "stdout",
          "text": [
            "            date      open      high       low     close      volume  name\n",
            "0     1986-03-13    0.0885    0.1016    0.0885    0.0972  1031788800  MSFT\n",
            "1     1986-03-14    0.0972    0.1024    0.0972    0.1007   308160000  MSFT\n",
            "2     1986-03-17    0.1007    0.1033    0.1007    0.1024   133171200  MSFT\n",
            "3     1986-03-18    0.1024    0.1033    0.0990    0.0998    67766400  MSFT\n",
            "4     1986-03-19    0.0998    0.1007    0.0972    0.0981    47894400  MSFT\n",
            "...          ...       ...       ...       ...       ...         ...   ...\n",
            "8629  2020-06-08  185.9400  188.5500  184.4400  188.3600    33123035  MSFT\n",
            "8630  2020-06-09  188.0000  190.7000  187.2605  189.8000    29783916  MSFT\n",
            "8631  2020-06-10  191.1250  198.5200  191.0100  196.8400    43568260  MSFT\n",
            "8632  2020-06-11  193.1300  195.7600  186.0700  186.2700    52645278  MSFT\n",
            "8633  2020-06-12  190.5400  191.7200  185.1800  187.7400    43373587  MSFT\n",
            "\n",
            "[8634 rows x 7 columns]\n",
            "             date      open      high       low     close      volume  name\n",
            "0      1986-03-13    0.0885    0.1016    0.0885    0.0972  1031788800  MSFT\n",
            "1      1986-03-14    0.0972    0.1024    0.0972    0.1007   308160000  MSFT\n",
            "2      1986-03-17    0.1007    0.1033    0.1007    0.1024   133171200  MSFT\n",
            "3      1986-03-18    0.1024    0.1033    0.0990    0.0998    67766400  MSFT\n",
            "4      1986-03-19    0.0998    0.1007    0.0972    0.0981    47894400  MSFT\n",
            "...           ...       ...       ...       ...       ...         ...   ...\n",
            "18588  2020-06-08  330.2500  333.6000  327.3200  333.4600    23851975  AAPL\n",
            "18589  2020-06-09  332.1400  345.6100  332.0100  343.9900    36928091  AAPL\n",
            "18590  2020-06-10  347.9000  354.7700  346.0900  352.8400    41355786  AAPL\n",
            "18591  2020-06-11  349.3100  351.0600  335.4800  335.9000    49567675  AAPL\n",
            "18592  2020-06-12  344.7200  347.8000  334.2233  338.8000    50036513  AAPL\n",
            "\n",
            "[18593 rows x 7 columns]\n",
            "             date       open       high        low      close      volume  \\\n",
            "0      1986-03-13     0.0885     0.1016     0.0885     0.0972  1031788800   \n",
            "1      1986-03-14     0.0972     0.1024     0.0972     0.1007   308160000   \n",
            "2      1986-03-17     0.1007     0.1033     0.1007     0.1024   133171200   \n",
            "3      1986-03-18     0.1024     0.1033     0.0990     0.0998    67766400   \n",
            "4      1986-03-19     0.0998     0.1007     0.0972     0.0981    47894400   \n",
            "...           ...        ...        ...        ...        ...         ...   \n",
            "24395  2020-06-08  2500.2000  2530.0000  2487.3400  2524.0600     3957871   \n",
            "24396  2020-06-09  2529.4400  2626.4300  2525.0000  2600.8600     5175950   \n",
            "24397  2020-06-10  2645.0000  2722.3500  2626.2600  2647.4500     4913985   \n",
            "24398  2020-06-11  2603.5000  2671.3800  2536.2300  2557.9600     5753417   \n",
            "24399  2020-06-12  2601.2100  2621.4800  2503.3500  2545.0200     5436127   \n",
            "\n",
            "       name  \n",
            "0      MSFT  \n",
            "1      MSFT  \n",
            "2      MSFT  \n",
            "3      MSFT  \n",
            "4      MSFT  \n",
            "...     ...  \n",
            "24395  AMZN  \n",
            "24396  AMZN  \n",
            "24397  AMZN  \n",
            "24398  AMZN  \n",
            "24399  AMZN  \n",
            "\n",
            "[24400 rows x 7 columns]\n",
            "             date       open       high        low      close      volume  \\\n",
            "0      1986-03-13     0.0885     0.1016     0.0885     0.0972  1031788800   \n",
            "1      1986-03-14     0.0972     0.1024     0.0972     0.1007   308160000   \n",
            "2      1986-03-17     0.1007     0.1033     0.1007     0.1024   133171200   \n",
            "3      1986-03-18     0.1024     0.1033     0.0990     0.0998    67766400   \n",
            "4      1986-03-19     0.0998     0.1007     0.0972     0.0981    47894400   \n",
            "...           ...        ...        ...        ...        ...         ...   \n",
            "25960  2020-06-08  1422.3400  1447.9900  1422.3400  1446.6100     1401827   \n",
            "25961  2020-06-09  1445.3600  1468.0000  1443.2100  1456.1600     1409249   \n",
            "25962  2020-06-10  1459.5400  1474.2600  1456.2700  1465.8500     1521378   \n",
            "25963  2020-06-11  1442.4800  1454.4700  1402.0000  1403.8400     1983710   \n",
            "25964  2020-06-12  1428.4900  1437.0000  1386.0200  1413.1800     1946367   \n",
            "\n",
            "       name  \n",
            "0      MSFT  \n",
            "1      MSFT  \n",
            "2      MSFT  \n",
            "3      MSFT  \n",
            "4      MSFT  \n",
            "...     ...  \n",
            "25960  GOOG  \n",
            "25961  GOOG  \n",
            "25962  GOOG  \n",
            "25963  GOOG  \n",
            "25964  GOOG  \n",
            "\n",
            "[25965 rows x 7 columns]\n"
          ]
        }
      ]
    },
    {
      "cell_type": "code",
      "source": [
        "stocks = df.groupby('name')\n",
        "\n",
        "for stock in stocks.groups.keys():\n",
        "  stock_df = stocks.get_group(stock)\n",
        "  avg_vol = stock_df['volume'].mean()\n",
        "  print(stock + 'Avg Trading volume ' + str(avg_vol))\n",
        "  print(stock_df)"
      ],
      "metadata": {
        "colab": {
          "base_uri": "https://localhost:8080/"
        },
        "id": "UqLRykMz5chi",
        "outputId": "b18925d3-ee6f-4ae4-a8be-75d9cff3d0bc"
      },
      "execution_count": null,
      "outputs": [
        {
          "output_type": "stream",
          "name": "stdout",
          "text": [
            "AAPLAvg Trading volume 85488428.64624962\n",
            "             date      open      high       low     close     volume  name\n",
            "8634   1980-12-12    0.5134    0.5155    0.5134    0.5134  117258400  AAPL\n",
            "8635   1980-12-15    0.4889    0.4889    0.4866    0.4866   43971200  AAPL\n",
            "8636   1980-12-16    0.4530    0.4530    0.4509    0.4509   26432000  AAPL\n",
            "8637   1980-12-17    0.4620    0.4643    0.4620    0.4620   21610400  AAPL\n",
            "8638   1980-12-18    0.4755    0.4777    0.4755    0.4755   18362400  AAPL\n",
            "...           ...       ...       ...       ...       ...        ...   ...\n",
            "18588  2020-06-08  330.2500  333.6000  327.3200  333.4600   23851975  AAPL\n",
            "18589  2020-06-09  332.1400  345.6100  332.0100  343.9900   36928091  AAPL\n",
            "18590  2020-06-10  347.9000  354.7700  346.0900  352.8400   41355786  AAPL\n",
            "18591  2020-06-11  349.3100  351.0600  335.4800  335.9000   49567675  AAPL\n",
            "18592  2020-06-12  344.7200  347.8000  334.2233  338.8000   50036513  AAPL\n",
            "\n",
            "[9959 rows x 7 columns]\n",
            "AMZNAvg Trading volume 7512299.565696573\n",
            "             date       open       high        low      close    volume  name\n",
            "18593  1997-05-16     1.8650     1.9792     1.7083     1.7292  14700000  AMZN\n",
            "18594  1997-05-19     1.7083     1.7708     1.6250     1.7083   6106800  AMZN\n",
            "18595  1997-05-20     1.7292     1.7500     1.6358     1.6358   5467200  AMZN\n",
            "18596  1997-05-21     1.6042     1.6458     1.3750     1.4275  18853200  AMZN\n",
            "18597  1997-05-22     1.4375     1.4483     1.3125     1.3958  11776800  AMZN\n",
            "...           ...        ...        ...        ...        ...       ...   ...\n",
            "24395  2020-06-08  2500.2000  2530.0000  2487.3400  2524.0600   3957871  AMZN\n",
            "24396  2020-06-09  2529.4400  2626.4300  2525.0000  2600.8600   5175950  AMZN\n",
            "24397  2020-06-10  2645.0000  2722.3500  2626.2600  2647.4500   4913985  AMZN\n",
            "24398  2020-06-11  2603.5000  2671.3800  2536.2300  2557.9600   5753417  AMZN\n",
            "24399  2020-06-12  2601.2100  2621.4800  2503.3500  2545.0200   5436127  AMZN\n",
            "\n",
            "[5807 rows x 7 columns]\n",
            "GOOGAvg Trading volume 1753946.9469648562\n",
            "             date      open     high      low    close   volume  name\n",
            "24400  2014-03-27   568.000   568.00   552.92   558.46    13100  GOOG\n",
            "24401  2014-03-28   561.200   566.43   558.67   559.99    41100  GOOG\n",
            "24402  2014-03-31   566.890   567.00   556.93   556.97    10800  GOOG\n",
            "24403  2014-04-01   558.710   568.45   558.71   567.16     7900  GOOG\n",
            "24404  2014-04-02   565.106   604.83   562.19   567.00   146700  GOOG\n",
            "...           ...       ...      ...      ...      ...      ...   ...\n",
            "25960  2020-06-08  1422.340  1447.99  1422.34  1446.61  1401827  GOOG\n",
            "25961  2020-06-09  1445.360  1468.00  1443.21  1456.16  1409249  GOOG\n",
            "25962  2020-06-10  1459.540  1474.26  1456.27  1465.85  1521378  GOOG\n",
            "25963  2020-06-11  1442.480  1454.47  1402.00  1403.84  1983710  GOOG\n",
            "25964  2020-06-12  1428.490  1437.00  1386.02  1413.18  1946367  GOOG\n",
            "\n",
            "[1565 rows x 7 columns]\n",
            "MSFTAvg Trading volume 60234781.231410705\n",
            "            date      open      high       low     close      volume  name\n",
            "0     1986-03-13    0.0885    0.1016    0.0885    0.0972  1031788800  MSFT\n",
            "1     1986-03-14    0.0972    0.1024    0.0972    0.1007   308160000  MSFT\n",
            "2     1986-03-17    0.1007    0.1033    0.1007    0.1024   133171200  MSFT\n",
            "3     1986-03-18    0.1024    0.1033    0.0990    0.0998    67766400  MSFT\n",
            "4     1986-03-19    0.0998    0.1007    0.0972    0.0981    47894400  MSFT\n",
            "...          ...       ...       ...       ...       ...         ...   ...\n",
            "8629  2020-06-08  185.9400  188.5500  184.4400  188.3600    33123035  MSFT\n",
            "8630  2020-06-09  188.0000  190.7000  187.2605  189.8000    29783916  MSFT\n",
            "8631  2020-06-10  191.1250  198.5200  191.0100  196.8400    43568260  MSFT\n",
            "8632  2020-06-11  193.1300  195.7600  186.0700  186.2700    52645278  MSFT\n",
            "8633  2020-06-12  190.5400  191.7200  185.1800  187.7400    43373587  MSFT\n",
            "\n",
            "[8634 rows x 7 columns]\n"
          ]
        }
      ]
    },
    {
      "cell_type": "markdown",
      "metadata": {
        "id": "aZyxki3ATnA5"
      },
      "source": [
        "### Summary Statistics by Group"
      ]
    },
    {
      "cell_type": "markdown",
      "metadata": {
        "id": "z2SjhVg4TnA5"
      },
      "source": [
        "If we have data from multiple categories in the same DataFrame, we can split it into separate DataFrames and then calculate the summary statistics. Lets look at the DataFrame we create before, with stock prices for Microsoft, Amazon, Google, and Apple."
      ]
    },
    {
      "cell_type": "code",
      "source": [
        "stock_names = ['MSFT', 'AAPL', 'AMZN', 'GOOG']\n",
        "\n",
        "df = pd.DataFrame()\n",
        "for stock_name in stock_names:\n",
        "  stock_df = pd.read_csv(f'{stock_name}.csv')\n",
        "  stock_df['name'] = stock_name\n",
        "  df = pd.concat([df, stock_df], ignore_index = True)\n",
        "print(df)"
      ],
      "metadata": {
        "colab": {
          "base_uri": "https://localhost:8080/"
        },
        "id": "BrmdHusN7NT3",
        "outputId": "022d06f1-be8f-4c4d-82f9-859f9b78dc55"
      },
      "execution_count": null,
      "outputs": [
        {
          "output_type": "stream",
          "name": "stdout",
          "text": [
            "             date       open       high        low      close      volume  \\\n",
            "0      1986-03-13     0.0885     0.1016     0.0885     0.0972  1031788800   \n",
            "1      1986-03-14     0.0972     0.1024     0.0972     0.1007   308160000   \n",
            "2      1986-03-17     0.1007     0.1033     0.1007     0.1024   133171200   \n",
            "3      1986-03-18     0.1024     0.1033     0.0990     0.0998    67766400   \n",
            "4      1986-03-19     0.0998     0.1007     0.0972     0.0981    47894400   \n",
            "...           ...        ...        ...        ...        ...         ...   \n",
            "25960  2020-06-08  1422.3400  1447.9900  1422.3400  1446.6100     1401827   \n",
            "25961  2020-06-09  1445.3600  1468.0000  1443.2100  1456.1600     1409249   \n",
            "25962  2020-06-10  1459.5400  1474.2600  1456.2700  1465.8500     1521378   \n",
            "25963  2020-06-11  1442.4800  1454.4700  1402.0000  1403.8400     1983710   \n",
            "25964  2020-06-12  1428.4900  1437.0000  1386.0200  1413.1800     1946367   \n",
            "\n",
            "       name  \n",
            "0      MSFT  \n",
            "1      MSFT  \n",
            "2      MSFT  \n",
            "3      MSFT  \n",
            "4      MSFT  \n",
            "...     ...  \n",
            "25960  GOOG  \n",
            "25961  GOOG  \n",
            "25962  GOOG  \n",
            "25963  GOOG  \n",
            "25964  GOOG  \n",
            "\n",
            "[25965 rows x 7 columns]\n"
          ]
        }
      ]
    },
    {
      "cell_type": "code",
      "execution_count": null,
      "metadata": {
        "colab": {
          "base_uri": "https://localhost:8080/"
        },
        "id": "msfhlndqTnA6",
        "outputId": "f1c3dc2a-e6c2-4bc6-e4fb-a4a6e645cb92"
      },
      "outputs": [
        {
          "output_type": "stream",
          "name": "stdout",
          "text": [
            "             date       open       high        low      close      volume  \\\n",
            "0      1986-03-13     0.0885     0.1016     0.0885     0.0972  1031788800   \n",
            "1      1986-03-14     0.0972     0.1024     0.0972     0.1007   308160000   \n",
            "2      1986-03-17     0.1007     0.1033     0.1007     0.1024   133171200   \n",
            "3      1986-03-18     0.1024     0.1033     0.0990     0.0998    67766400   \n",
            "4      1986-03-19     0.0998     0.1007     0.0972     0.0981    47894400   \n",
            "...           ...        ...        ...        ...        ...         ...   \n",
            "25960  2020-06-08  1422.3400  1447.9900  1422.3400  1446.6100     1401827   \n",
            "25961  2020-06-09  1445.3600  1468.0000  1443.2100  1456.1600     1409249   \n",
            "25962  2020-06-10  1459.5400  1474.2600  1456.2700  1465.8500     1521378   \n",
            "25963  2020-06-11  1442.4800  1454.4700  1402.0000  1403.8400     1983710   \n",
            "25964  2020-06-12  1428.4900  1437.0000  1386.0200  1413.1800     1946367   \n",
            "\n",
            "       name  \n",
            "0      MSFT  \n",
            "1      MSFT  \n",
            "2      MSFT  \n",
            "3      MSFT  \n",
            "4      MSFT  \n",
            "...     ...  \n",
            "25960  GOOG  \n",
            "25961  GOOG  \n",
            "25962  GOOG  \n",
            "25963  GOOG  \n",
            "25964  GOOG  \n",
            "\n",
            "[25965 rows x 7 columns]\n"
          ]
        }
      ],
      "source": [
        "stock_names = ['MSFT', 'AAPL', 'AMZN', 'GOOG']\n",
        "\n",
        "df = pd.DataFrame()\n",
        "for stock_name in stock_names:\n",
        "    stock_df = pd.read_csv(f'{stock_name}.csv')\n",
        "    stock_df['name'] = stock_name\n",
        "    df = pd.concat([df, stock_df], ignore_index=True)\n",
        "print(df)"
      ]
    },
    {
      "cell_type": "markdown",
      "metadata": {
        "id": "iUGsZULRTnA-"
      },
      "source": [
        "Combining our knowledge of the `groupby` function with our knowledge of summary statistics, we can do the following:"
      ]
    },
    {
      "cell_type": "code",
      "source": [
        "stocks = df.groupby('name')\n",
        "for stock in stocks.groups.keys():\n",
        "  stock_df = stocks.get_group(stock)\n",
        "  avg_vol = stock_df['volume'].mean()\n",
        "  print(stock + \"Avg Trading Volume:\" + str(avg_vol))\n",
        "\n"
      ],
      "metadata": {
        "colab": {
          "base_uri": "https://localhost:8080/"
        },
        "id": "1FIk0xc75IFI",
        "outputId": "f6944791-9feb-4df0-ac3a-4b9b7b72fddf"
      },
      "execution_count": null,
      "outputs": [
        {
          "output_type": "stream",
          "name": "stdout",
          "text": [
            "AAPLAvg Trading Volume:85488428.64624962\n",
            "AMZNAvg Trading Volume:7512299.565696573\n",
            "GOOGAvg Trading Volume:1753946.9469648562\n",
            "MSFTAvg Trading Volume:60234781.231410705\n"
          ]
        }
      ]
    },
    {
      "cell_type": "code",
      "execution_count": null,
      "metadata": {
        "colab": {
          "base_uri": "https://localhost:8080/"
        },
        "id": "ovBVQ0MkTnBB",
        "outputId": "20e30e21-dbd9-43e0-9928-a0bf4323c5fc"
      },
      "outputs": [
        {
          "name": "stdout",
          "output_type": "stream",
          "text": [
            "AAPL Avg Trading Volume: 85488428.64624962\n",
            "AMZN Avg Trading Volume: 7512299.565696573\n",
            "GOOG Avg Trading Volume: 1753946.9469648562\n",
            "MSFT Avg Trading Volume: 60234781.231410705\n"
          ]
        }
      ],
      "source": [
        "\n",
        "stocks = df.groupby('name')\n",
        "for stock in stocks.groups.keys():\n",
        "    stock_df = stocks.get_group(stock)\n",
        "    avg_vol = stock_df['volume'].mean()\n",
        "    print(stock + \" Avg Trading Volume: \" + str(avg_vol))"
      ]
    },
    {
      "cell_type": "markdown",
      "metadata": {
        "id": "_LlMU7xlTnBG"
      },
      "source": [
        "Even more simply, we can do `grouped-object['name-of-col'].summary-statistic()`."
      ]
    },
    {
      "cell_type": "code",
      "source": [
        "stocks['volume'].mean()"
      ],
      "metadata": {
        "colab": {
          "base_uri": "https://localhost:8080/",
          "height": 241
        },
        "id": "zHXAAcf17IgY",
        "outputId": "af1426d0-2b64-4fc0-8d75-8b4901fab39d"
      },
      "execution_count": null,
      "outputs": [
        {
          "output_type": "execute_result",
          "data": {
            "text/plain": [
              "name\n",
              "AAPL    8.548843e+07\n",
              "AMZN    7.512300e+06\n",
              "GOOG    1.753947e+06\n",
              "MSFT    6.023478e+07\n",
              "Name: volume, dtype: float64"
            ],
            "text/html": [
              "<div>\n",
              "<style scoped>\n",
              "    .dataframe tbody tr th:only-of-type {\n",
              "        vertical-align: middle;\n",
              "    }\n",
              "\n",
              "    .dataframe tbody tr th {\n",
              "        vertical-align: top;\n",
              "    }\n",
              "\n",
              "    .dataframe thead th {\n",
              "        text-align: right;\n",
              "    }\n",
              "</style>\n",
              "<table border=\"1\" class=\"dataframe\">\n",
              "  <thead>\n",
              "    <tr style=\"text-align: right;\">\n",
              "      <th></th>\n",
              "      <th>volume</th>\n",
              "    </tr>\n",
              "    <tr>\n",
              "      <th>name</th>\n",
              "      <th></th>\n",
              "    </tr>\n",
              "  </thead>\n",
              "  <tbody>\n",
              "    <tr>\n",
              "      <th>AAPL</th>\n",
              "      <td>8.548843e+07</td>\n",
              "    </tr>\n",
              "    <tr>\n",
              "      <th>AMZN</th>\n",
              "      <td>7.512300e+06</td>\n",
              "    </tr>\n",
              "    <tr>\n",
              "      <th>GOOG</th>\n",
              "      <td>1.753947e+06</td>\n",
              "    </tr>\n",
              "    <tr>\n",
              "      <th>MSFT</th>\n",
              "      <td>6.023478e+07</td>\n",
              "    </tr>\n",
              "  </tbody>\n",
              "</table>\n",
              "</div><br><label><b>dtype:</b> float64</label>"
            ]
          },
          "metadata": {},
          "execution_count": 23
        }
      ]
    },
    {
      "cell_type": "code",
      "execution_count": null,
      "metadata": {
        "colab": {
          "base_uri": "https://localhost:8080/"
        },
        "id": "3jcLBOtBTnBH",
        "outputId": "857d2fe0-db81-49d9-e115-90fae21adb58"
      },
      "outputs": [
        {
          "name": "stdout",
          "output_type": "stream",
          "text": [
            "name\n",
            "AAPL    8.548843e+07\n",
            "AMZN    7.512300e+06\n",
            "GOOG    1.753947e+06\n",
            "MSFT    6.023478e+07\n",
            "Name: volume, dtype: float64\n"
          ]
        }
      ],
      "source": [
        "print(stocks['volume'].mean())"
      ]
    },
    {
      "cell_type": "markdown",
      "metadata": {
        "id": "VivqcEiaTnBL"
      },
      "source": [
        "The key takeaway is that Pandas allows us to easily calculate columns, operate on existing columns, and create summary statistics for columns and groups.\n",
        "\n",
        "**Challenge:** Find the greatest average close price across all four stocks and print out the stock along with it's average close."
      ]
    },
    {
      "cell_type": "code",
      "source": [
        "avg_close = stocks['close'].mean()\n",
        "greatest_stock = avg_close.idxmax()\n",
        "print(greatest_stock, avg_close[greatest_stock])"
      ],
      "metadata": {
        "colab": {
          "base_uri": "https://localhost:8080/"
        },
        "id": "qyiMIwAK7jTi",
        "outputId": "404de6c9-d406-485c-9964-85787290fec8"
      },
      "execution_count": null,
      "outputs": [
        {
          "output_type": "stream",
          "name": "stdout",
          "text": [
            "GOOG 900.2986702236421\n"
          ]
        }
      ]
    },
    {
      "cell_type": "code",
      "execution_count": null,
      "metadata": {
        "colab": {
          "base_uri": "https://localhost:8080/"
        },
        "id": "YKtr-0-ZfaFl",
        "outputId": "b4b0be78-a428-4e5d-861f-a639ae68feaa"
      },
      "outputs": [
        {
          "output_type": "stream",
          "name": "stdout",
          "text": [
            "GOOG 900.2986702236421\n"
          ]
        }
      ],
      "source": [
        "avg_close = stocks['close'].mean()\n",
        "greatest_stock = avg_close.idxmax()\n",
        "print(greatest_stock, avg_close[greatest_stock])"
      ]
    },
    {
      "cell_type": "code",
      "execution_count": null,
      "metadata": {
        "colab": {
          "base_uri": "https://localhost:8080/",
          "height": 458
        },
        "id": "atvtjd-EjlYj",
        "outputId": "3dad4455-4094-4b12-99b0-3758f6e8cae7"
      },
      "outputs": [
        {
          "output_type": "execute_result",
          "data": {
            "text/plain": [
              "0      -2624.2808\n",
              "1      -2624.4892\n",
              "2      -2624.5100\n",
              "3      -2624.6142\n",
              "4      -2624.8117\n",
              "          ...    \n",
              "5802     -96.2600\n",
              "5803       0.1700\n",
              "5804      96.0900\n",
              "5805      45.1200\n",
              "5806      -4.7800\n",
              "Name: high, Length: 5807, dtype: float64"
            ],
            "text/html": [
              "<div>\n",
              "<style scoped>\n",
              "    .dataframe tbody tr th:only-of-type {\n",
              "        vertical-align: middle;\n",
              "    }\n",
              "\n",
              "    .dataframe tbody tr th {\n",
              "        vertical-align: top;\n",
              "    }\n",
              "\n",
              "    .dataframe thead th {\n",
              "        text-align: right;\n",
              "    }\n",
              "</style>\n",
              "<table border=\"1\" class=\"dataframe\">\n",
              "  <thead>\n",
              "    <tr style=\"text-align: right;\">\n",
              "      <th></th>\n",
              "      <th>high</th>\n",
              "    </tr>\n",
              "  </thead>\n",
              "  <tbody>\n",
              "    <tr>\n",
              "      <th>0</th>\n",
              "      <td>-2624.2808</td>\n",
              "    </tr>\n",
              "    <tr>\n",
              "      <th>1</th>\n",
              "      <td>-2624.4892</td>\n",
              "    </tr>\n",
              "    <tr>\n",
              "      <th>2</th>\n",
              "      <td>-2624.5100</td>\n",
              "    </tr>\n",
              "    <tr>\n",
              "      <th>3</th>\n",
              "      <td>-2624.6142</td>\n",
              "    </tr>\n",
              "    <tr>\n",
              "      <th>4</th>\n",
              "      <td>-2624.8117</td>\n",
              "    </tr>\n",
              "    <tr>\n",
              "      <th>...</th>\n",
              "      <td>...</td>\n",
              "    </tr>\n",
              "    <tr>\n",
              "      <th>5802</th>\n",
              "      <td>-96.2600</td>\n",
              "    </tr>\n",
              "    <tr>\n",
              "      <th>5803</th>\n",
              "      <td>0.1700</td>\n",
              "    </tr>\n",
              "    <tr>\n",
              "      <th>5804</th>\n",
              "      <td>96.0900</td>\n",
              "    </tr>\n",
              "    <tr>\n",
              "      <th>5805</th>\n",
              "      <td>45.1200</td>\n",
              "    </tr>\n",
              "    <tr>\n",
              "      <th>5806</th>\n",
              "      <td>-4.7800</td>\n",
              "    </tr>\n",
              "  </tbody>\n",
              "</table>\n",
              "<p>5807 rows × 1 columns</p>\n",
              "</div><br><label><b>dtype:</b> float64</label>"
            ]
          },
          "metadata": {},
          "execution_count": 33
        }
      ],
      "source": [
        "# Other challenge\n",
        "\n",
        "amzn['high'] - amzn['low'].max()\n",
        "\n",
        "\n"
      ]
    }
  ],
  "metadata": {
    "colab": {
      "provenance": [],
      "include_colab_link": true
    },
    "kernelspec": {
      "display_name": "Python 3 (ipykernel)",
      "language": "python",
      "name": "python3"
    },
    "language_info": {
      "codemirror_mode": {
        "name": "ipython",
        "version": 3
      },
      "file_extension": ".py",
      "mimetype": "text/x-python",
      "name": "python",
      "nbconvert_exporter": "python",
      "pygments_lexer": "ipython3",
      "version": "3.10.0"
    }
  },
  "nbformat": 4,
  "nbformat_minor": 0
}